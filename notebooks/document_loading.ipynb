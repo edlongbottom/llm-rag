{
 "cells": [
  {
   "cell_type": "markdown",
   "metadata": {},
   "source": [
    "# Document loading\n",
    "\n",
    "### Setup\n",
    "\n",
    "Import the existing weaviate instance. Remove any existing schemas before we start."
   ]
  },
  {
   "cell_type": "code",
   "execution_count": 1,
   "metadata": {},
   "outputs": [
    {
     "name": "stderr",
     "output_type": "stream",
     "text": [
      "2024-08-16 11:51:43.377 \n",
      "  \u001b[33m\u001b[1mWarning:\u001b[0m to view this Streamlit app on a browser, run it with the following\n",
      "  command:\n",
      "\n",
      "    streamlit run /Users/longbe01/Documents/projects/llm-rag/venv-llm-rag/lib/python3.10/site-packages/ipykernel_launcher.py [ARGUMENTS]\n",
      "2024-08-16 11:51:43.741 Session state does not function when running a script without `streamlit run`\n"
     ]
    }
   ],
   "source": [
    "from pathlib import Path\n",
    "\n",
    "from manifesto_qa.app import WEAVIATE_INDEX_NAME, TEXT_EMBEDDINGS_MODEL, GENERATIVE_MODEL\n",
    "\n",
    "from manifesto_qa.vectordb import VectorDB\n",
    "from manifesto_qa.document_loader import load_and_split_pdf, add_documents_to_store"
   ]
  },
  {
   "cell_type": "code",
   "execution_count": 2,
   "metadata": {},
   "outputs": [],
   "source": [
    "vector_db = VectorDB(WEAVIATE_INDEX_NAME, TEXT_EMBEDDINGS_MODEL, GENERATIVE_MODEL)"
   ]
  },
  {
   "cell_type": "code",
   "execution_count": 7,
   "metadata": {},
   "outputs": [],
   "source": [
    "vector_db.delete_all_schemas()\n",
    "vector_db.reset_manifesto_schema()"
   ]
  },
  {
   "cell_type": "markdown",
   "metadata": {},
   "source": [
    "### Document loading and splitting\n",
    "\n",
    "Load each of the manifesto PDF documents and split them into chunks. Then, add them to the vector database (using OpenAI's text embeddings model to generate embeddings)."
   ]
  },
  {
   "cell_type": "code",
   "execution_count": 8,
   "metadata": {},
   "outputs": [
    {
     "data": {
      "text/plain": [
       "'/Users/longbe01/Documents/projects/llm-rag/data'"
      ]
     },
     "execution_count": 8,
     "metadata": {},
     "output_type": "execute_result"
    }
   ],
   "source": [
    "data_dir = Path(\"/Users/longbe01/Documents/projects/llm-rag/data\")\n",
    "data_dir.as_posix()"
   ]
  },
  {
   "cell_type": "code",
   "execution_count": 9,
   "metadata": {},
   "outputs": [
    {
     "name": "stdout",
     "output_type": "stream",
     "text": [
      "Split file Plaid_Cymru_Maniffesto_2024_ENGLISH.pdf into 166 chunks.\n",
      "Added 166 chunks to vector db for file Plaid_Cymru_Maniffesto_2024_ENGLISH.pdf.\n",
      "\n",
      "Split file Green-Party-2024-General-Election-Manifesto-Long-version_imprint.pdf into 166 chunks.\n",
      "Added 166 chunks to vector db for file Green-Party-2024-General-Election-Manifesto-Long-version_imprint.pdf.\n",
      "\n",
      "Split file Change-Labour-Party-Manifesto-2024-large-print.pdf into 252 chunks.\n",
      "Added 252 chunks to vector db for file Change-Labour-Party-Manifesto-2024-large-print.pdf.\n",
      "\n",
      "Split file 2024-06-20b-SNP-General-Election-Manifesto-2024_interactive.pdf into 76 chunks.\n",
      "Added 76 chunks to vector db for file 2024-06-20b-SNP-General-Election-Manifesto-2024_interactive.pdf.\n",
      "\n",
      "Split file Reform_UK_Contract_With_The_People.pdf into 73 chunks.\n",
      "Added 73 chunks to vector db for file Reform_UK_Contract_With_The_People.pdf.\n",
      "\n",
      "Split file Conservative-Manifesto-GE2024.pdf into 235 chunks.\n",
      "Added 235 chunks to vector db for file Conservative-Manifesto-GE2024.pdf.\n",
      "\n",
      "Split file For_a_Fair_Deal_-_Liberal_Democrat_Manifesto_2024.pdf into 229 chunks.\n",
      "Added 229 chunks to vector db for file For_a_Fair_Deal_-_Liberal_Democrat_Manifesto_2024.pdf.\n",
      "\n"
     ]
    }
   ],
   "source": [
    "for file in data_dir.glob(\"*.pdf\"):\n",
    "\n",
    "    pdf_splits = load_and_split_pdf(file) \n",
    "    print(f\"Split file {file.name} into {len(pdf_splits)} chunks.\")\n",
    "\n",
    "    docs_added = add_documents_to_store(vector_db.instance, pdf_splits)\n",
    "    print(f\"Added {len(docs_added)} chunks to vector db for file {file.name}.\\n\")\n"
   ]
  },
  {
   "cell_type": "markdown",
   "metadata": {},
   "source": [
    "### View the database schema\n",
    "\n",
    "Understand how the documents have been loaded (and how this relates to creating collections directly using the weaviate API). \n",
    "\n",
    "Sense check the documents have all been loaded correctly, and view an example record."
   ]
  },
  {
   "cell_type": "code",
   "execution_count": 3,
   "metadata": {},
   "outputs": [
    {
     "name": "stdout",
     "output_type": "stream",
     "text": [
      "There are 1197 objects in the vector database \n",
      "\n",
      "Example object: \n",
      "  {'_additional': {'id': '0006dacf-185b-405f-b50a-3125fbb62310'}, 'page': 115, 'source': '/Users/longbe01/Documents/projects/llm-rag/data/Change-Labour-Party-Manifesto-2024-large-print.pdf', 'text': 'With Labour, the Wales Office will once again become \\nan advocate for Wales at home and abroad and \\nfacilitate closer collaboration between our governments. \\nThe Wales Office will ensure on issues under the \\ncompetence of the UK government the voice of Wales is \\nproperly heard. \\nNorthern Ireland\\nNorthern Ireland needs stability and long-term certainty \\nafter the challenges of recent years. Labour will work'}\n"
     ]
    }
   ],
   "source": [
    "all_records = vector_db.read_all_objects()\n",
    "\n",
    "print(f\"There are {len(all_records)} objects in the vector database \\n\")\n",
    "print(\"Example object: \\n \", all_records[0])"
   ]
  },
  {
   "cell_type": "code",
   "execution_count": 4,
   "metadata": {},
   "outputs": [
    {
     "data": {
      "text/plain": [
       "[{'dataType': ['text'],\n",
       "  'description': 'The document content chunked',\n",
       "  'indexFilterable': True,\n",
       "  'indexSearchable': True,\n",
       "  'moduleConfig': {'text2vec-openai': {'dimensions': 1536,\n",
       "    'model': 'text-embedding-3-small',\n",
       "    'skip': False,\n",
       "    'tokenization': 'lowercase',\n",
       "    'type': 'text',\n",
       "    'vectorizePropertyName': True}},\n",
       "  'name': 'text',\n",
       "  'tokenization': 'word'},\n",
       " {'dataType': ['text'],\n",
       "  'description': 'The source document (PDF)',\n",
       "  'indexFilterable': True,\n",
       "  'indexSearchable': True,\n",
       "  'moduleConfig': {'text2vec-openai': {'skip': False,\n",
       "    'tokenization': 'whitespace',\n",
       "    'vectorizePropertyName': False}},\n",
       "  'name': 'source',\n",
       "  'tokenization': 'word'},\n",
       " {'dataType': ['number'],\n",
       "  'description': 'Page number',\n",
       "  'indexFilterable': True,\n",
       "  'indexSearchable': False,\n",
       "  'moduleConfig': {'text2vec-openai': {'skip': False,\n",
       "    'tokenization': 'whitespace',\n",
       "    'vectorizePropertyName': False}},\n",
       "  'name': 'page'}]"
      ]
     },
     "execution_count": 4,
     "metadata": {},
     "output_type": "execute_result"
    }
   ],
   "source": [
    "vector_db.client.schema.get()['classes'][0][\"properties\"]"
   ]
  },
  {
   "cell_type": "code",
   "execution_count": 5,
   "metadata": {},
   "outputs": [
    {
     "data": {
      "text/plain": [
       "{'class': 'ManifestoQa',\n",
       " 'description': 'Index storing political party GE 2024 manifesto documents.',\n",
       " 'invertedIndexConfig': {'bm25': {'b': 0.75, 'k1': 1.2},\n",
       "  'cleanupIntervalSeconds': 60,\n",
       "  'stopwords': {'additions': None, 'preset': 'en', 'removals': None}},\n",
       " 'moduleConfig': {'generative-openai': {'model': 'gpt-3.5-turbo'},\n",
       "  'text2vec-openai': {'baseURL': 'https://api.openai.com',\n",
       "   'model': 'ada',\n",
       "   'vectorizeClassName': True}},\n",
       " 'multiTenancyConfig': {'autoTenantCreation': False, 'enabled': False},\n",
       " 'properties': [{'dataType': ['text'],\n",
       "   'description': 'The document content chunked',\n",
       "   'indexFilterable': True,\n",
       "   'indexSearchable': True,\n",
       "   'moduleConfig': {'text2vec-openai': {'dimensions': 1536,\n",
       "     'model': 'text-embedding-3-small',\n",
       "     'skip': False,\n",
       "     'tokenization': 'lowercase',\n",
       "     'type': 'text',\n",
       "     'vectorizePropertyName': True}},\n",
       "   'name': 'text',\n",
       "   'tokenization': 'word'},\n",
       "  {'dataType': ['text'],\n",
       "   'description': 'The source document (PDF)',\n",
       "   'indexFilterable': True,\n",
       "   'indexSearchable': True,\n",
       "   'moduleConfig': {'text2vec-openai': {'skip': False,\n",
       "     'tokenization': 'whitespace',\n",
       "     'vectorizePropertyName': False}},\n",
       "   'name': 'source',\n",
       "   'tokenization': 'word'},\n",
       "  {'dataType': ['number'],\n",
       "   'description': 'Page number',\n",
       "   'indexFilterable': True,\n",
       "   'indexSearchable': False,\n",
       "   'moduleConfig': {'text2vec-openai': {'skip': False,\n",
       "     'tokenization': 'whitespace',\n",
       "     'vectorizePropertyName': False}},\n",
       "   'name': 'page'}],\n",
       " 'replicationConfig': {'factor': 1},\n",
       " 'shardingConfig': {'actualCount': 1,\n",
       "  'actualVirtualCount': 128,\n",
       "  'desiredCount': 1,\n",
       "  'desiredVirtualCount': 128,\n",
       "  'function': 'murmur3',\n",
       "  'key': '_id',\n",
       "  'strategy': 'hash',\n",
       "  'virtualPerPhysical': 128},\n",
       " 'vectorIndexConfig': {'bq': {'enabled': False},\n",
       "  'cleanupIntervalSeconds': 300,\n",
       "  'distance': 'cosine',\n",
       "  'dynamicEfFactor': 8,\n",
       "  'dynamicEfMax': 500,\n",
       "  'dynamicEfMin': 100,\n",
       "  'ef': -1,\n",
       "  'efConstruction': 128,\n",
       "  'flatSearchCutoff': 40000,\n",
       "  'maxConnections': 64,\n",
       "  'pq': {'bitCompression': False,\n",
       "   'centroids': 256,\n",
       "   'enabled': False,\n",
       "   'encoder': {'distribution': 'log-normal', 'type': 'kmeans'},\n",
       "   'segments': 0,\n",
       "   'trainingLimit': 100000},\n",
       "  'skip': False,\n",
       "  'vectorCacheMaxObjects': 1000000000000},\n",
       " 'vectorIndexType': 'hnsw',\n",
       " 'vectorizer': 'text2vec-openai'}"
      ]
     },
     "execution_count": 5,
     "metadata": {},
     "output_type": "execute_result"
    }
   ],
   "source": [
    "vector_db.client.schema.get()['classes'][0]"
   ]
  },
  {
   "cell_type": "code",
   "execution_count": 6,
   "metadata": {},
   "outputs": [
    {
     "data": {
      "text/plain": [
       "{'classes': [{'class': 'ManifestoQa',\n",
       "   'description': 'Index storing political party GE 2024 manifesto documents.',\n",
       "   'invertedIndexConfig': {'bm25': {'b': 0.75, 'k1': 1.2},\n",
       "    'cleanupIntervalSeconds': 60,\n",
       "    'stopwords': {'additions': None, 'preset': 'en', 'removals': None}},\n",
       "   'moduleConfig': {'generative-openai': {'model': 'gpt-3.5-turbo'},\n",
       "    'text2vec-openai': {'baseURL': 'https://api.openai.com',\n",
       "     'model': 'ada',\n",
       "     'vectorizeClassName': True}},\n",
       "   'multiTenancyConfig': {'autoTenantCreation': False, 'enabled': False},\n",
       "   'properties': [{'dataType': ['text'],\n",
       "     'description': 'The document content chunked',\n",
       "     'indexFilterable': True,\n",
       "     'indexSearchable': True,\n",
       "     'moduleConfig': {'text2vec-openai': {'dimensions': 1536,\n",
       "       'model': 'text-embedding-3-small',\n",
       "       'skip': False,\n",
       "       'tokenization': 'lowercase',\n",
       "       'type': 'text',\n",
       "       'vectorizePropertyName': True}},\n",
       "     'name': 'text',\n",
       "     'tokenization': 'word'},\n",
       "    {'dataType': ['text'],\n",
       "     'description': 'The source document (PDF)',\n",
       "     'indexFilterable': True,\n",
       "     'indexSearchable': True,\n",
       "     'moduleConfig': {'text2vec-openai': {'skip': False,\n",
       "       'tokenization': 'whitespace',\n",
       "       'vectorizePropertyName': False}},\n",
       "     'name': 'source',\n",
       "     'tokenization': 'word'},\n",
       "    {'dataType': ['number'],\n",
       "     'description': 'Page number',\n",
       "     'indexFilterable': True,\n",
       "     'indexSearchable': False,\n",
       "     'moduleConfig': {'text2vec-openai': {'skip': False,\n",
       "       'tokenization': 'whitespace',\n",
       "       'vectorizePropertyName': False}},\n",
       "     'name': 'page'}],\n",
       "   'replicationConfig': {'factor': 1},\n",
       "   'shardingConfig': {'actualCount': 1,\n",
       "    'actualVirtualCount': 128,\n",
       "    'desiredCount': 1,\n",
       "    'desiredVirtualCount': 128,\n",
       "    'function': 'murmur3',\n",
       "    'key': '_id',\n",
       "    'strategy': 'hash',\n",
       "    'virtualPerPhysical': 128},\n",
       "   'vectorIndexConfig': {'bq': {'enabled': False},\n",
       "    'cleanupIntervalSeconds': 300,\n",
       "    'distance': 'cosine',\n",
       "    'dynamicEfFactor': 8,\n",
       "    'dynamicEfMax': 500,\n",
       "    'dynamicEfMin': 100,\n",
       "    'ef': -1,\n",
       "    'efConstruction': 128,\n",
       "    'flatSearchCutoff': 40000,\n",
       "    'maxConnections': 64,\n",
       "    'pq': {'bitCompression': False,\n",
       "     'centroids': 256,\n",
       "     'enabled': False,\n",
       "     'encoder': {'distribution': 'log-normal', 'type': 'kmeans'},\n",
       "     'segments': 0,\n",
       "     'trainingLimit': 100000},\n",
       "    'skip': False,\n",
       "    'vectorCacheMaxObjects': 1000000000000},\n",
       "   'vectorIndexType': 'hnsw',\n",
       "   'vectorizer': 'text2vec-openai'}]}"
      ]
     },
     "execution_count": 6,
     "metadata": {},
     "output_type": "execute_result"
    }
   ],
   "source": [
    "vector_db.client.schema.get()"
   ]
  },
  {
   "cell_type": "code",
   "execution_count": null,
   "metadata": {},
   "outputs": [],
   "source": []
  }
 ],
 "metadata": {
  "kernelspec": {
   "display_name": "venv-llm-rag",
   "language": "python",
   "name": "python3"
  },
  "language_info": {
   "codemirror_mode": {
    "name": "ipython",
    "version": 3
   },
   "file_extension": ".py",
   "mimetype": "text/x-python",
   "name": "python",
   "nbconvert_exporter": "python",
   "pygments_lexer": "ipython3",
   "version": "3.10.5"
  }
 },
 "nbformat": 4,
 "nbformat_minor": 2
}
