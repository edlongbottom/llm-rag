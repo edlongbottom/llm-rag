{
 "cells": [
  {
   "cell_type": "markdown",
   "metadata": {},
   "source": [
    "# Vector Search\n",
    "\n",
    "### Setup"
   ]
  },
  {
   "cell_type": "code",
   "execution_count": 1,
   "metadata": {},
   "outputs": [],
   "source": [
    "import os\n",
    "import ast\n",
    "import json\n",
    "import requests\n",
    "import weaviate\n",
    "\n",
    "import pandas as pd\n",
    "\n",
    "from dotenv import load_dotenv, find_dotenv\n",
    "from langchain_weaviate.vectorstores import WeaviateVectorStore"
   ]
  },
  {
   "cell_type": "code",
   "execution_count": 2,
   "metadata": {},
   "outputs": [],
   "source": [
    "_ = load_dotenv(find_dotenv()) # read local .env file\n",
    "\n",
    "weaviate_url = os.getenv(\"WEAVIATE_URL\") \n",
    "weaviate_key = os.getenv(\"WEAVIATE_API_KEY\")\n",
    "openai_key = os.getenv(\"OPENAI_API_KEY\")"
   ]
  },
  {
   "cell_type": "code",
   "execution_count": 3,
   "metadata": {},
   "outputs": [
    {
     "name": "stderr",
     "output_type": "stream",
     "text": [
      "/Users/longbe01/Documents/projects/llm-rag/venv-llm-rag/lib/python3.10/site-packages/weaviate/warnings.py:162: DeprecationWarning: Dep016: Python client v3 `weaviate.Client(...)` connections and methods are deprecated. Update\n",
      "            your code to use Python client v4 `weaviate.WeaviateClient` connections and methods.\n",
      "\n",
      "            For Python Client v4 usage, see: https://weaviate.io/developers/weaviate/client-libraries/python\n",
      "            For code migration, see: https://weaviate.io/developers/weaviate/client-libraries/python/v3_v4_migration\n",
      "            \n",
      "  warnings.warn(\n"
     ]
    },
    {
     "data": {
      "text/plain": [
       "True"
      ]
     },
     "execution_count": 3,
     "metadata": {},
     "output_type": "execute_result"
    }
   ],
   "source": [
    "# Connect to local Weaviate instance running in docker\n",
    "weaviate_client = weaviate.Client(\n",
    "    url=weaviate_url,  \n",
    "    auth_client_secret=weaviate.auth.AuthApiKey(api_key=weaviate_key),  \n",
    "    additional_headers={\n",
    "        \"X-OpenAI-Api-Key\": openai_key\n",
    "    }\n",
    ")\n",
    "weaviate_client.is_ready()"
   ]
  },
  {
   "cell_type": "code",
   "execution_count": 4,
   "metadata": {},
   "outputs": [],
   "source": [
    "# delete existing items from the database\n",
    "weaviate_client.schema.delete_all()"
   ]
  },
  {
   "cell_type": "markdown",
   "metadata": {},
   "source": [
    "### Document loading and splitting\n",
    "\n",
    "Load the manifesto PDF documents and split them into chunks."
   ]
  },
  {
   "cell_type": "code",
   "execution_count": 21,
   "metadata": {},
   "outputs": [],
   "source": [
    "from langchain.document_loaders import PyPDFLoader\n",
    "from langchain.text_splitter import RecursiveCharacterTextSplitter"
   ]
  },
  {
   "cell_type": "code",
   "execution_count": 27,
   "metadata": {},
   "outputs": [
    {
     "name": "stdout",
     "output_type": "stream",
     "text": [
      "Loads PDF and creates 80 chunks. One per page.\n"
     ]
    }
   ],
   "source": [
    "pdf_loader = PyPDFLoader(file_path=\"../data/Conservative-Manifesto-GE2024.pdf\")\n",
    "pdf_chunks = pdf_loader.load()\n",
    "\n",
    "print(f\"Loads PDFs and creates {len(pdf_chunks)} chunks. One per page of the manifesto.\")"
   ]
  },
  {
   "cell_type": "markdown",
   "metadata": {},
   "source": [
    "This next step further splits the PDF text into 169 smaller documents with some overlap, while maintaining the metadata (source and page number)."
   ]
  },
  {
   "cell_type": "code",
   "execution_count": 32,
   "metadata": {},
   "outputs": [
    {
     "name": "stdout",
     "output_type": "stream",
     "text": [
      "Creates 235 splits\n"
     ]
    }
   ],
   "source": [
    "pdf_text_splitter = RecursiveCharacterTextSplitter(\n",
    "    separators=[\"\\n\\n\", \"\\n\", \" \", \"\"],\n",
    "    chunk_size = 1000,\n",
    "    chunk_overlap = 100,\n",
    "    is_separator_regex=False,\n",
    ")\n",
    "\n",
    "pdf_splits = pdf_text_splitter.split_documents(pdf_chunks)\n",
    "print(f\"Creates {len(pdf_splits)} splits\")\n"
   ]
  },
  {
   "cell_type": "markdown",
   "metadata": {},
   "source": [
    "### Embeddings and database loading\n",
    "\n",
    "First, create the embeddings"
   ]
  },
  {
   "cell_type": "code",
   "execution_count": 33,
   "metadata": {},
   "outputs": [],
   "source": [
    "from langchain.vectorstores import Weaviate\n",
    "from langchain_openai import OpenAIEmbeddings\n",
    "\n",
    "from weaviate.classes.query import Filter"
   ]
  },
  {
   "cell_type": "code",
   "execution_count": 34,
   "metadata": {},
   "outputs": [],
   "source": [
    "embeddings = OpenAIEmbeddings(model = \"text-embedding-ada-002\", api_key=openai_key)"
   ]
  },
  {
   "cell_type": "markdown",
   "metadata": {},
   "source": [
    "Then load these into the vector store"
   ]
  },
  {
   "cell_type": "code",
   "execution_count": 35,
   "metadata": {},
   "outputs": [],
   "source": [
    "weaviate_instance = Weaviate(client=weaviate_client, index_name=\"test\", text_key=\"test\")"
   ]
  },
  {
   "cell_type": "code",
   "execution_count": 36,
   "metadata": {},
   "outputs": [],
   "source": [
    "weaviate_db = Weaviate.from_documents(pdf_splits, embeddings, client=weaviate_client)"
   ]
  },
  {
   "cell_type": "markdown",
   "metadata": {},
   "source": [
    "### Vector search"
   ]
  },
  {
   "cell_type": "code",
   "execution_count": 37,
   "metadata": {},
   "outputs": [],
   "source": [
    "search_query = \"What is Conversative housing policy?\"\n",
    "docs = weaviate_db.similarity_search(search_query)"
   ]
  },
  {
   "cell_type": "code",
   "execution_count": 38,
   "metadata": {},
   "outputs": [
    {
     "data": {
      "text/plain": [
       "Document(page_content='51 \\nThe Conservative and Unionist Party Manifesto 2024Our plan to build \\nmore houses in the \\nright places', metadata={'page': 52, 'source': '../data/Conservative-Manifesto-GE2024.pdf'})"
      ]
     },
     "execution_count": 38,
     "metadata": {},
     "output_type": "execute_result"
    }
   ],
   "source": [
    "docs[0]"
   ]
  },
  {
   "cell_type": "code",
   "execution_count": 42,
   "metadata": {},
   "outputs": [
    {
     "name": "stdout",
     "output_type": "stream",
     "text": [
      "\n",
      "Document 1:\n",
      "51 \n",
      "The Conservative and Unionist Party Manifesto 2024Our plan to build \n",
      "more houses in the \n",
      "right p...\n",
      "\n",
      "Document 2:\n",
      "54 We will support those who want to build or \n",
      "commission their own home by making the \n",
      "planning pro...\n",
      "\n",
      "Document 3:\n",
      "support local people into home ownership and \n",
      "create a dedicated taskforce in Homes England \n",
      "to deli...\n",
      "\n",
      "Document 4:\n",
      "52  We will deliver a secure future \n",
      "for communities by giving more \n",
      "people a better chance of livin...\n"
     ]
    }
   ],
   "source": [
    "for i, doc in enumerate(docs):\n",
    "    print(f\"\\nDocument {i+1}:\")\n",
    "    print(doc.page_content[:100] + \"...\")"
   ]
  },
  {
   "cell_type": "markdown",
   "metadata": {},
   "source": [
    "Add filters"
   ]
  },
  {
   "cell_type": "code",
   "execution_count": 41,
   "metadata": {},
   "outputs": [
    {
     "name": "stdout",
     "output_type": "stream",
     "text": [
      "\n",
      "Document 1:\n",
      "Page: 52\n",
      "51 \n",
      "The Conservative and Unionist Party Manifesto 2024Our plan to build \n",
      "more houses in the \n",
      "right p...\n",
      "\n",
      "Document 2:\n",
      "Page: 55\n",
      "54 We will support those who want to build or \n",
      "commission their own home by making the \n",
      "planning pro...\n",
      "\n",
      "Document 3:\n",
      "Page: 67\n",
      "support local people into home ownership and \n",
      "create a dedicated taskforce in Homes England \n",
      "to deli...\n",
      "\n",
      "Document 4:\n",
      "Page: 53\n",
      "52  We will deliver a secure future \n",
      "for communities by giving more \n",
      "people a better chance of livin...\n"
     ]
    }
   ],
   "source": [
    "source_filter = Filter.by_property(\"source\").equal(\"../data/Conservative-Manifesto-GE2024.pdf\")\n",
    "filtered_search_results = weaviate_db.similarity_search(search_query, filters=source_filter)\n",
    "\n",
    "for i, result in enumerate(filtered_search_results):\n",
    "    print(f\"\\nDocument {i+1}:\")\n",
    "    print(f\"Page: {result.metadata['page']}\")\n",
    "    print(result.page_content[:100] + \"...\")\n"
   ]
  },
  {
   "cell_type": "code",
   "execution_count": 43,
   "metadata": {},
   "outputs": [
    {
     "name": "stdout",
     "output_type": "stream",
     "text": [
      "\n",
      "Document 1:\n",
      "Page: 52\n",
      "51 \n",
      "The Conservative and Unionist Party Manifesto 2024Our plan to build \n",
      "more houses in the \n",
      "right p...\n",
      "\n",
      "Document 2:\n",
      "Page: 55\n",
      "54 We will support those who want to build or \n",
      "commission their own home by making the \n",
      "planning pro...\n",
      "\n",
      "Document 3:\n",
      "Page: 67\n",
      "support local people into home ownership and \n",
      "create a dedicated taskforce in Homes England \n",
      "to deli...\n"
     ]
    }
   ],
   "source": [
    "page_filter = Filter.by_property(\"page\").equal(52)\n",
    "page_search_results = weaviate_db.similarity_search(search_query, filters=page_filter, k=3)\n",
    "\n",
    "for i, result in enumerate(page_search_results):\n",
    "    print(f\"\\nDocument {i+1}:\")\n",
    "    print(f\"Page: {result.metadata['page']}\")\n",
    "    print(result.page_content[:100] + \"...\")"
   ]
  },
  {
   "cell_type": "code",
   "execution_count": 45,
   "metadata": {},
   "outputs": [
    {
     "data": {
      "text/plain": [
       "{'classes': [{'class': 'LangChain_09c839fb259744c3af543e4a977e32fd',\n",
       "   'invertedIndexConfig': {'bm25': {'b': 0.75, 'k1': 1.2},\n",
       "    'cleanupIntervalSeconds': 60,\n",
       "    'stopwords': {'additions': None, 'preset': 'en', 'removals': None}},\n",
       "   'multiTenancyConfig': {'autoTenantCreation': False, 'enabled': False},\n",
       "   'properties': [{'dataType': ['text'],\n",
       "     'indexFilterable': True,\n",
       "     'indexSearchable': True,\n",
       "     'name': 'text',\n",
       "     'tokenization': 'word'},\n",
       "    {'dataType': ['text'],\n",
       "     'description': \"This property was generated by Weaviate's auto-schema feature on Wed Jun 12 08:06:26 2024\",\n",
       "     'indexFilterable': True,\n",
       "     'indexSearchable': True,\n",
       "     'name': 'source',\n",
       "     'tokenization': 'word'},\n",
       "    {'dataType': ['number'],\n",
       "     'description': \"This property was generated by Weaviate's auto-schema feature on Wed Jun 12 08:06:26 2024\",\n",
       "     'indexFilterable': True,\n",
       "     'indexSearchable': False,\n",
       "     'name': 'page'}],\n",
       "   'replicationConfig': {'factor': 1},\n",
       "   'shardingConfig': {'actualCount': 1,\n",
       "    'actualVirtualCount': 128,\n",
       "    'desiredCount': 1,\n",
       "    'desiredVirtualCount': 128,\n",
       "    'function': 'murmur3',\n",
       "    'key': '_id',\n",
       "    'strategy': 'hash',\n",
       "    'virtualPerPhysical': 128},\n",
       "   'vectorIndexConfig': {'bq': {'enabled': False},\n",
       "    'cleanupIntervalSeconds': 300,\n",
       "    'distance': 'cosine',\n",
       "    'dynamicEfFactor': 8,\n",
       "    'dynamicEfMax': 500,\n",
       "    'dynamicEfMin': 100,\n",
       "    'ef': -1,\n",
       "    'efConstruction': 128,\n",
       "    'flatSearchCutoff': 40000,\n",
       "    'maxConnections': 64,\n",
       "    'pq': {'bitCompression': False,\n",
       "     'centroids': 256,\n",
       "     'enabled': False,\n",
       "     'encoder': {'distribution': 'log-normal', 'type': 'kmeans'},\n",
       "     'segments': 0,\n",
       "     'trainingLimit': 100000},\n",
       "    'skip': False,\n",
       "    'vectorCacheMaxObjects': 1000000000000},\n",
       "   'vectorIndexType': 'hnsw',\n",
       "   'vectorizer': 'none'}]}"
      ]
     },
     "execution_count": 45,
     "metadata": {},
     "output_type": "execute_result"
    }
   ],
   "source": [
    "schemas = weaviate_client.schema.get()\n",
    "schemas"
   ]
  },
  {
   "cell_type": "markdown",
   "metadata": {},
   "source": [
    "### Vector search with different retrieval methods\n",
    "\n",
    "Try alternative retrieval methods, such as MMR and SelfQuery"
   ]
  },
  {
   "cell_type": "code",
   "execution_count": null,
   "metadata": {},
   "outputs": [],
   "source": []
  },
  {
   "cell_type": "markdown",
   "metadata": {},
   "source": [
    "### Chat with memory\n",
    "\n",
    "Explore LangChain's memory module in order to involve chat history in requests to GPT"
   ]
  },
  {
   "cell_type": "code",
   "execution_count": null,
   "metadata": {},
   "outputs": [],
   "source": []
  }
 ],
 "metadata": {
  "kernelspec": {
   "display_name": "venv-llm-rag",
   "language": "python",
   "name": "python3"
  },
  "language_info": {
   "codemirror_mode": {
    "name": "ipython",
    "version": 3
   },
   "file_extension": ".py",
   "mimetype": "text/x-python",
   "name": "python",
   "nbconvert_exporter": "python",
   "pygments_lexer": "ipython3",
   "version": "3.10.5"
  }
 },
 "nbformat": 4,
 "nbformat_minor": 2
}
