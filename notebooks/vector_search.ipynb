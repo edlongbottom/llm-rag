{
 "cells": [
  {
   "cell_type": "markdown",
   "metadata": {},
   "source": [
    "# Vector search techniques\n",
    "\n",
    "### Setup"
   ]
  },
  {
   "cell_type": "code",
   "execution_count": 1,
   "metadata": {},
   "outputs": [
    {
     "name": "stderr",
     "output_type": "stream",
     "text": [
      "/Users/longbe01/Documents/projects/llm-rag/venv-llm-rag/lib/python3.10/site-packages/weaviate/warnings.py:162: DeprecationWarning: Dep016: Python client v3 `weaviate.Client(...)` connections and methods are deprecated. Update\n",
      "            your code to use Python client v4 `weaviate.WeaviateClient` connections and methods.\n",
      "\n",
      "            For Python Client v4 usage, see: https://weaviate.io/developers/weaviate/client-libraries/python\n",
      "            For code migration, see: https://weaviate.io/developers/weaviate/client-libraries/python/v3_v4_migration\n",
      "            \n",
      "  warnings.warn(\n",
      "/Users/longbe01/Documents/projects/llm-rag/venv-llm-rag/lib/python3.10/site-packages/langchain_core/_api/deprecation.py:139: LangChainDeprecationWarning: The class `ChatOpenAI` was deprecated in LangChain 0.0.10 and will be removed in 0.3.0. An updated version of the class exists in the langchain-openai package and should be used instead. To use it run `pip install -U langchain-openai` and import as `from langchain_openai import ChatOpenAI`.\n",
      "  warn_deprecated(\n"
     ]
    }
   ],
   "source": [
    "from manifesto_qa.app import vector_db\n",
    "\n",
    "from langchain_openai import OpenAIEmbeddings"
   ]
  },
  {
   "cell_type": "code",
   "execution_count": 2,
   "metadata": {},
   "outputs": [],
   "source": [
    "weaviate_instance = vector_db.instance\n",
    "weaviate_client = vector_db.client"
   ]
  },
  {
   "cell_type": "markdown",
   "metadata": {},
   "source": [
    "### Typical vector search\n",
    "\n",
    "Use the `similarity search` method to perform a vector search to retrieve the `k` most relevant documents from the vector database."
   ]
  },
  {
   "cell_type": "code",
   "execution_count": 3,
   "metadata": {},
   "outputs": [],
   "source": [
    "search_query = \"What is reform's position on the european union?\""
   ]
  },
  {
   "cell_type": "code",
   "execution_count": 4,
   "metadata": {},
   "outputs": [],
   "source": [
    "relevant_docs = weaviate_instance.similarity_search(query=search_query, k=3)"
   ]
  },
  {
   "cell_type": "code",
   "execution_count": 5,
   "metadata": {},
   "outputs": [
    {
     "name": "stdout",
     "output_type": "stream",
     "text": [
      "\n",
      "Document 1:\n",
      "DRAFT\n",
      "DRAFT\n",
      "Brexit meant taking back control of our borders, laws and money. It should have allowed us to take our \n",
      "rightful place among the 168 other...\n",
      "\n",
      "Document 2:\n",
      "Leave the European Convention on Human Rights.\n",
      "British laws and judges must never be overruled by a foreign court. We must be free to \n",
      "deport those we...\n",
      "\n",
      "Document 3:\n",
      "DRAFT\n",
      "DRAFT\n",
      "The UK’s constitutional arrangements need Reform.\n",
      " \n",
      "We are ruled by an arrogant and out of touch elite. The two party system is broken. Th...\n"
     ]
    }
   ],
   "source": [
    "for idx ,doc in enumerate(relevant_docs):\n",
    "    print(f\"\\nDocument {idx+1}:\")\n",
    "    print(doc.page_content[:150]+\"...\")"
   ]
  },
  {
   "cell_type": "markdown",
   "metadata": {},
   "source": [
    "We can also retrieve the Document metadata from the returned results:"
   ]
  },
  {
   "cell_type": "code",
   "execution_count": 6,
   "metadata": {},
   "outputs": [
    {
     "name": "stdout",
     "output_type": "stream",
     "text": [
      "{'page': 17, 'source': '/Users/longbe01/Documents/projects/llm-rag/data/Reform_UK_Contract_With_The_People.pdf'}\n",
      "{'page': 17, 'source': '/Users/longbe01/Documents/projects/llm-rag/data/Reform_UK_Contract_With_The_People.pdf'}\n",
      "{'page': 28, 'source': '/Users/longbe01/Documents/projects/llm-rag/data/Reform_UK_Contract_With_The_People.pdf'}\n"
     ]
    }
   ],
   "source": [
    "for d in relevant_docs:\n",
    "    print(d.metadata)"
   ]
  },
  {
   "cell_type": "markdown",
   "metadata": {},
   "source": [
    "### Maximum marginal relevance  (MMR)\n",
    "\n",
    "Use Maximimum marginal relevance (MMR) to achieve a balance between relevance and diversity in the search results.\n",
    "\n",
    "Vary the value of lambda_multi between 0 and 1 (where 0 is maximum diversity)"
   ]
  },
  {
   "cell_type": "code",
   "execution_count": 7,
   "metadata": {},
   "outputs": [],
   "source": [
    "weaviate_instance._embedding = OpenAIEmbeddings(model=\"text-embedding-ada-002\")"
   ]
  },
  {
   "cell_type": "code",
   "execution_count": 8,
   "metadata": {},
   "outputs": [],
   "source": [
    "docs_mmr = weaviate_instance.max_marginal_relevance_search(query=search_query, k=3, lambda_mult=0.5)"
   ]
  },
  {
   "cell_type": "code",
   "execution_count": 9,
   "metadata": {},
   "outputs": [
    {
     "name": "stdout",
     "output_type": "stream",
     "text": [
      "\n",
      "Document 1:\n",
      "DRAFT\n",
      "DRAFT\n",
      "Brexit meant taking back control of our borders, laws and money. It should have allowed us to take our \n",
      "rightful place among the 168 other...\n",
      "\n",
      "Document 2:\n",
      "partyof.wales5151 partyof.walesWe believe that Wales would \n",
      "be best served by re-joining \n",
      "the European Union at an \n",
      "appropriate point in time, \n",
      "recogn...\n",
      "\n",
      "Document 3:\n",
      "The out-of-touch wasteful BBC is institutionally biased. The TV licence is taxation without \n",
      "representation. In a world of on-demand TV  People should...\n"
     ]
    }
   ],
   "source": [
    "for idx ,doc in enumerate(docs_mmr):\n",
    "    print(f\"\\nDocument {idx+1}:\")\n",
    "    print(doc.page_content[:150]+\"...\")"
   ]
  },
  {
   "cell_type": "markdown",
   "metadata": {},
   "source": [
    "### Keyword search\n",
    "\n",
    "Perform keyword rather than vector similarity searches. This can be performed using the same `similarity_search` method but passing in the `alpha` variable.\n",
    "\n",
    "Vary `alpha` between 0 (pure keyword search) and 1 (pure vector search). The default is `0.75` (so similarity search is in fact a hybrid search with a higher weighting on vector similarity)."
   ]
  },
  {
   "cell_type": "code",
   "execution_count": 10,
   "metadata": {},
   "outputs": [],
   "source": [
    "docs_kw = weaviate_instance.similarity_search(query=search_query, k=3, alpha=0)"
   ]
  },
  {
   "cell_type": "code",
   "execution_count": 11,
   "metadata": {},
   "outputs": [
    {
     "name": "stdout",
     "output_type": "stream",
     "text": [
      "\n",
      "Document 1:\n",
      "DRAFT\n",
      "DRAFT\n",
      "Brexit meant taking back control of our borders, laws and money. It should have allowed us to take our \n",
      "rightful place among the 168 other...\n",
      "\n",
      "Document 2:\n",
      "Leave the European Convention on Human Rights.\n",
      "British laws and judges must never be overruled by a foreign court. We must be free to \n",
      "deport those we...\n",
      "\n",
      "Document 3:\n",
      "DRAFT\n",
      "DRAFT\n",
      "The UK’s constitutional arrangements need Reform.\n",
      " \n",
      "We are ruled by an arrogant and out of touch elite. The two party system is broken. Th...\n"
     ]
    }
   ],
   "source": [
    "for idx ,doc in enumerate(docs_kw):\n",
    "    print(f\"\\nDocument {idx+1}:\")\n",
    "    print(doc.page_content[:150]+\"...\")"
   ]
  },
  {
   "cell_type": "markdown",
   "metadata": {},
   "source": [
    "And now trying a pure vector search. In this case it doesn't look like it's made any difference."
   ]
  },
  {
   "cell_type": "code",
   "execution_count": 12,
   "metadata": {},
   "outputs": [],
   "source": [
    "docs_vector = weaviate_instance.similarity_search(query=search_query, k=3, alpha=1)"
   ]
  },
  {
   "cell_type": "code",
   "execution_count": 13,
   "metadata": {},
   "outputs": [
    {
     "name": "stdout",
     "output_type": "stream",
     "text": [
      "\n",
      "Document 1:\n",
      "DRAFT\n",
      "DRAFT\n",
      "Brexit meant taking back control of our borders, laws and money. It should have allowed us to take our \n",
      "rightful place among the 168 other...\n",
      "\n",
      "Document 2:\n",
      "Leave the European Convention on Human Rights.\n",
      "British laws and judges must never be overruled by a foreign court. We must be free to \n",
      "deport those we...\n",
      "\n",
      "Document 3:\n",
      "DRAFT\n",
      "DRAFT\n",
      "The UK’s constitutional arrangements need Reform.\n",
      " \n",
      "We are ruled by an arrogant and out of touch elite. The two party system is broken. Th...\n"
     ]
    }
   ],
   "source": [
    "for idx ,doc in enumerate(docs_vector):\n",
    "    print(f\"\\nDocument {idx+1}:\")\n",
    "    print(doc.page_content[:150]+\"...\")"
   ]
  },
  {
   "cell_type": "markdown",
   "metadata": {},
   "source": [
    "### Vector search with filter\n",
    "\n",
    "Use a filter applied to the document metadata to search only those documents from a particular source. I can't seem to get this to work. "
   ]
  },
  {
   "cell_type": "code",
   "execution_count": 44,
   "metadata": {},
   "outputs": [],
   "source": [
    "from weaviate.classes.query import Filter\n",
    "\n",
    "docs_filtered = weaviate_instance.similarity_search(\n",
    "    query=\"What is the housing strategy?\", \n",
    "    k=3, \n",
    "    filters=Filter.by_property(\"source\").equal(\"/Users/longbe01/Documents/projects/llm-rag/data/Conservative-Manifesto-GE2024.pdf\")\n",
    "    # filter={\"source\":\"/Users/longbe01/Documents/projects/llm-rag/data/Conservative-Manifesto-GE2024.pdf\"}\n",
    ")"
   ]
  },
  {
   "cell_type": "code",
   "execution_count": 45,
   "metadata": {},
   "outputs": [
    {
     "name": "stdout",
     "output_type": "stream",
     "text": [
      "\n",
      "Document 1:\n",
      "housing sector:\n",
      "Social housing: We want to see an end to \n",
      "competitive bidding for the social housing decarbonisation fund, so funding is there for  \n",
      "a...\n",
      "\n",
      "Document 2:\n",
      "housing needs and \n",
      "increasing the housing stock \n",
      "will also reduce the numbers \n",
      "of individuals and families \n",
      "facing homelessness in \n",
      "Wales. In the Sene...\n",
      "\n",
      "Document 3:\n",
      "fundamentally change their approach to housing \n",
      "asylum seekers, ensuring accommodation is \n",
      "safe, suitable and dignified....\n"
     ]
    }
   ],
   "source": [
    "for idx ,doc in enumerate(docs_filtered):\n",
    "    print(f\"\\nDocument {idx+1}:\")\n",
    "    print(doc.page_content[:150]+\"...\")"
   ]
  },
  {
   "cell_type": "code",
   "execution_count": 46,
   "metadata": {},
   "outputs": [
    {
     "name": "stdout",
     "output_type": "stream",
     "text": [
      "{'page': 9, 'source': '/Users/longbe01/Documents/projects/llm-rag/data/Green-Party-2024-General-Election-Manifesto-Long-version_imprint.pdf'}\n",
      "{'page': 31, 'source': '/Users/longbe01/Documents/projects/llm-rag/data/Plaid_Cymru_Maniffesto_2024_ENGLISH.pdf'}\n",
      "{'page': 27, 'source': '/Users/longbe01/Documents/projects/llm-rag/data/2024-06-20b-SNP-General-Election-Manifesto-2024_interactive.pdf'}\n"
     ]
    }
   ],
   "source": [
    "for doc in docs_filtered:\n",
    "    print(doc.metadata)"
   ]
  },
  {
   "cell_type": "markdown",
   "metadata": {},
   "source": [
    "### Quantify search similarity\n",
    "\n",
    "Return a relevancy score alongside the retrieved document."
   ]
  },
  {
   "cell_type": "code",
   "execution_count": 26,
   "metadata": {},
   "outputs": [
    {
     "name": "stdout",
     "output_type": "stream",
     "text": [
      "0.832 : DRAFT\n",
      "DRAFT\n",
      "Brexit meant taking back control of our borders, laws and money. It should have allowed ...\n",
      "0.831 : Leave the European Convention on Human Rights.\n",
      "British laws and judges must never be overruled by a ...\n",
      "0.830 : DRAFT\n",
      "DRAFT\n",
      "The UK’s constitutional arrangements need Reform.\n",
      " \n",
      "We are ruled by an arrogant and out ...\n",
      "0.830 : the Irish Sea. Northern Ireland is still in the EU’s single market for goods. British citizens in \n",
      "N...\n",
      "0.829 : Richard Tice\n",
      "Leader, Reform UKBritain needs Reform and Reform needs you.\n",
      "Britain has so much potenti...\n"
     ]
    }
   ],
   "source": [
    "scored_docs = weaviate_instance.similarity_search_with_score(search_query, k=5)\n",
    "\n",
    "for doc in scored_docs:\n",
    "    print(f\"{doc[1]:.3f}\", \":\", doc[0].page_content[:100] + \"...\")"
   ]
  },
  {
   "cell_type": "markdown",
   "metadata": {},
   "source": [
    "### Infer the metadata from the query itself\n",
    "\n",
    "Say we want to filter the results to only include those from the relevant source manifesto, but rather than passing a filter have the filter be automatically generated based on the query, e.g. a query asking about the Liberal Democrats should only retrieve results from their manifesto. "
   ]
  },
  {
   "cell_type": "code",
   "execution_count": 27,
   "metadata": {},
   "outputs": [],
   "source": [
    "from langchain.llms import OpenAI\n",
    "from langchain.retrievers.self_query.base import SelfQueryRetriever\n",
    "from langchain.chains.query_constructor.base import AttributeInfo"
   ]
  },
  {
   "cell_type": "code",
   "execution_count": 28,
   "metadata": {},
   "outputs": [],
   "source": [
    "metadata_field_info = [\n",
    "    AttributeInfo(\n",
    "        name=\"source\",\n",
    "        description=\"The manifesto PDF the chunk is from\",\n",
    "        type=\"string\",\n",
    "    ),\n",
    "    AttributeInfo(\n",
    "        name=\"page\",\n",
    "        description=\"The page from the manifesto\",\n",
    "        type=\"integer\",\n",
    "    ),\n",
    "]"
   ]
  },
  {
   "cell_type": "code",
   "execution_count": 29,
   "metadata": {},
   "outputs": [
    {
     "name": "stderr",
     "output_type": "stream",
     "text": [
      "/Users/longbe01/Documents/projects/llm-rag/venv-llm-rag/lib/python3.10/site-packages/langchain_core/_api/deprecation.py:139: LangChainDeprecationWarning: The class `OpenAI` was deprecated in LangChain 0.0.10 and will be removed in 0.3.0. An updated version of the class exists in the langchain-openai package and should be used instead. To use it run `pip install -U langchain-openai` and import as `from langchain_openai import OpenAI`.\n",
      "  warn_deprecated(\n"
     ]
    }
   ],
   "source": [
    "document_content_description = \"Manifestos\"\n",
    "llm = OpenAI(model='gpt-3.5-turbo-instruct', temperature=0)\n",
    "\n",
    "retriever = SelfQueryRetriever.from_llm(\n",
    "    llm,\n",
    "    weaviate_instance,\n",
    "    document_content_description,\n",
    "    metadata_field_info,\n",
    "    verbose=True\n",
    ")"
   ]
  },
  {
   "cell_type": "code",
   "execution_count": 36,
   "metadata": {},
   "outputs": [
    {
     "name": "stderr",
     "output_type": "stream",
     "text": [
      "/Users/longbe01/Documents/projects/llm-rag/venv-llm-rag/lib/python3.10/site-packages/pydantic/main.py:1070: PydanticDeprecatedSince20: The `dict` method is deprecated; use `model_dump` instead. Deprecated in Pydantic V2.0 to be removed in V3.0. See Pydantic V2 Migration Guide at https://errors.pydantic.dev/2.7/migration/\n",
      "  warnings.warn('The `dict` method is deprecated; use `model_dump` instead.', category=PydanticDeprecatedSince20)\n"
     ]
    }
   ],
   "source": [
    "docs = retriever.get_relevant_documents(query=\"What is the lib dem policy on the european union?\")"
   ]
  },
  {
   "cell_type": "code",
   "execution_count": 37,
   "metadata": {},
   "outputs": [
    {
     "name": "stdout",
     "output_type": "stream",
     "text": [
      "{'page': 104, 'source': '/Users/longbe01/Documents/projects/llm-rag/data/For_a_Fair_Deal_-_Liberal_Democrat_Manifesto_2024.pdf'}\n",
      "{'page': 108, 'source': '/Users/longbe01/Documents/projects/llm-rag/data/For_a_Fair_Deal_-_Liberal_Democrat_Manifesto_2024.pdf'}\n",
      "{'page': 87, 'source': '/Users/longbe01/Documents/projects/llm-rag/data/For_a_Fair_Deal_-_Liberal_Democrat_Manifesto_2024.pdf'}\n",
      "{'page': 19, 'source': '/Users/longbe01/Documents/projects/llm-rag/data/For_a_Fair_Deal_-_Liberal_Democrat_Manifesto_2024.pdf'}\n"
     ]
    }
   ],
   "source": [
    "for d in docs:\n",
    "    print(d.metadata)"
   ]
  },
  {
   "cell_type": "code",
   "execution_count": 38,
   "metadata": {},
   "outputs": [
    {
     "name": "stderr",
     "output_type": "stream",
     "text": [
      "/Users/longbe01/Documents/projects/llm-rag/venv-llm-rag/lib/python3.10/site-packages/pydantic/main.py:1070: PydanticDeprecatedSince20: The `dict` method is deprecated; use `model_dump` instead. Deprecated in Pydantic V2.0 to be removed in V3.0. See Pydantic V2 Migration Guide at https://errors.pydantic.dev/2.7/migration/\n",
      "  warnings.warn('The `dict` method is deprecated; use `model_dump` instead.', category=PydanticDeprecatedSince20)\n"
     ]
    }
   ],
   "source": [
    "docs_tory_eu = retriever.get_relevant_documents(query=\"What are the conservative party plans on the european union?\")"
   ]
  },
  {
   "cell_type": "code",
   "execution_count": 39,
   "metadata": {},
   "outputs": [],
   "source": [
    "for d in docs_tory_eu:\n",
    "    print(d.metadata)"
   ]
  },
  {
   "cell_type": "code",
   "execution_count": 42,
   "metadata": {},
   "outputs": [
    {
     "name": "stderr",
     "output_type": "stream",
     "text": [
      "/Users/longbe01/Documents/projects/llm-rag/venv-llm-rag/lib/python3.10/site-packages/pydantic/main.py:1070: PydanticDeprecatedSince20: The `dict` method is deprecated; use `model_dump` instead. Deprecated in Pydantic V2.0 to be removed in V3.0. See Pydantic V2 Migration Guide at https://errors.pydantic.dev/2.7/migration/\n",
      "  warnings.warn('The `dict` method is deprecated; use `model_dump` instead.', category=PydanticDeprecatedSince20)\n"
     ]
    }
   ],
   "source": [
    "docs_green_eu = retriever.get_relevant_documents(query=\"What are the green party plans on the european union?\")"
   ]
  },
  {
   "cell_type": "code",
   "execution_count": 43,
   "metadata": {},
   "outputs": [
    {
     "name": "stdout",
     "output_type": "stream",
     "text": [
      "{'page': 44, 'source': '/Users/longbe01/Documents/projects/llm-rag/data/Green-Party-2024-General-Election-Manifesto-Long-version_imprint.pdf'}\n",
      "{'page': 43, 'source': '/Users/longbe01/Documents/projects/llm-rag/data/Green-Party-2024-General-Election-Manifesto-Long-version_imprint.pdf'}\n",
      "{'page': 35, 'source': '/Users/longbe01/Documents/projects/llm-rag/data/Green-Party-2024-General-Election-Manifesto-Long-version_imprint.pdf'}\n",
      "{'page': 44, 'source': '/Users/longbe01/Documents/projects/llm-rag/data/Green-Party-2024-General-Election-Manifesto-Long-version_imprint.pdf'}\n"
     ]
    }
   ],
   "source": [
    "for d in docs_green_eu:\n",
    "    print(d.metadata)"
   ]
  },
  {
   "cell_type": "code",
   "execution_count": null,
   "metadata": {},
   "outputs": [],
   "source": []
  }
 ],
 "metadata": {
  "kernelspec": {
   "display_name": "venv-llm-rag",
   "language": "python",
   "name": "python3"
  },
  "language_info": {
   "codemirror_mode": {
    "name": "ipython",
    "version": 3
   },
   "file_extension": ".py",
   "mimetype": "text/x-python",
   "name": "python",
   "nbconvert_exporter": "python",
   "pygments_lexer": "ipython3",
   "version": "3.10.5"
  }
 },
 "nbformat": 4,
 "nbformat_minor": 2
}
