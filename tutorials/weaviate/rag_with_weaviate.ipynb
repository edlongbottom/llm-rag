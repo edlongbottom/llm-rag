{
 "cells": [
  {
   "cell_type": "markdown",
   "metadata": {},
   "source": [
    "# Multilingual RAG search"
   ]
  },
  {
   "cell_type": "code",
   "execution_count": null,
   "metadata": {},
   "outputs": [],
   "source": [
    "import weaviate, os, json\n",
    "import openai\n",
    "from dotenv import load_dotenv, find_dotenv"
   ]
  },
  {
   "cell_type": "code",
   "execution_count": null,
   "metadata": {},
   "outputs": [],
   "source": [
    "_ = load_dotenv(find_dotenv()) # read local .env file"
   ]
  },
  {
   "cell_type": "code",
   "execution_count": null,
   "metadata": {},
   "outputs": [],
   "source": [
    "auth_config = weaviate.auth.AuthApiKey(api_key=os.getenv(\"WEAVIATE_API_KEY\"))\n",
    "\n",
    "client = weaviate.Client(\n",
    "    url=os.getenv(\"WEAVIATE_API_URL\"),\n",
    "    auth_client_secret=auth_config,\n",
    "    additional_headers={\n",
    "        \"X-Cohere-Api-Key\": os.getenv(\"COHERE_API_KEY\"),\n",
    "        \"X-Cohere-BaseURL\": os.getenv(\"CO_API_URL\")\n",
    "    }\n",
    ")\n",
    "client.is_ready() #check if True"
   ]
  },
  {
   "cell_type": "code",
   "execution_count": null,
   "metadata": {},
   "outputs": [],
   "source": [
    "print(json.dumps(client.query.aggregate(\"Wikipedia\").with_meta_count().do(), indent=2))"
   ]
  },
  {
   "cell_type": "code",
   "execution_count": null,
   "metadata": {},
   "outputs": [],
   "source": [
    "def json_print(data):\n",
    "    print(json.dumps(data, indent=2))"
   ]
  },
  {
   "cell_type": "code",
   "execution_count": null,
   "metadata": {},
   "outputs": [],
   "source": []
  },
  {
   "cell_type": "code",
   "execution_count": null,
   "metadata": {},
   "outputs": [],
   "source": [
    "response = (client.query\n",
    "            .get(\"Wikipedia\",['text','title','url','views','lang'])\n",
    "            .with_near_text({\"concepts\": \"Vacation spots in california\"})\n",
    "            .with_limit(5)\n",
    "            .do()\n",
    "           )\n",
    "\n",
    "json_print(response)"
   ]
  },
  {
   "cell_type": "code",
   "execution_count": null,
   "metadata": {},
   "outputs": [],
   "source": [
    "response = (client.query\n",
    "            .get(\"Wikipedia\",['text','title','url','views','lang'])\n",
    "            .with_near_text({\"concepts\": \"Vacation spots in california\"})\n",
    "            .with_where({\n",
    "                \"path\" : ['lang'],\n",
    "                \"operator\" : \"Equal\",\n",
    "                \"valueString\":'en'\n",
    "            })\n",
    "            .with_limit(3)\n",
    "            .do()\n",
    "           )\n",
    "\n",
    "json_print(response)"
   ]
  },
  {
   "cell_type": "code",
   "execution_count": null,
   "metadata": {},
   "outputs": [],
   "source": [
    "response = (client.query\n",
    "            .get(\"Wikipedia\",['text','title','url','views','lang'])\n",
    "            .with_near_text({\"concepts\": \"Miejsca na wakacje w Kalifornii\"})\n",
    "            .with_where({\n",
    "                \"path\" : ['lang'],\n",
    "                \"operator\" : \"Equal\",\n",
    "                \"valueString\":'en'\n",
    "            })\n",
    "            .with_limit(3)\n",
    "            .do()\n",
    "           )\n",
    "\n",
    "json_print(response)"
   ]
  },
  {
   "cell_type": "code",
   "execution_count": null,
   "metadata": {},
   "outputs": [],
   "source": [
    "response = (client.query\n",
    "            .get(\"Wikipedia\",['text','title','url','views','lang'])\n",
    "            .with_near_text({\"concepts\": \"أماكن العطلات في كاليفورنيا\"})\n",
    "            .with_where({\n",
    "                \"path\" : ['lang'],\n",
    "                \"operator\" : \"Equal\",\n",
    "                \"valueString\":'en'\n",
    "            })\n",
    "            .with_limit(3)\n",
    "            .do()\n",
    "           )\n",
    "\n",
    "json_print(response)"
   ]
  },
  {
   "cell_type": "markdown",
   "metadata": {},
   "source": [
    "## RAG"
   ]
  },
  {
   "cell_type": "code",
   "execution_count": null,
   "metadata": {},
   "outputs": [],
   "source": [
    "prompt = \"Write me a facebook ad about {title} using information inside {text}\"\n",
    "result = (\n",
    "  client.query\n",
    "  .get(\"Wikipedia\", [\"title\",\"text\"])\n",
    "  .with_generate(single_prompt=prompt)\n",
    "  .with_near_text({\n",
    "    \"concepts\": [\"Vacation spots in california\"]\n",
    "  })\n",
    "  .with_limit(3)\n",
    ").do()\n",
    "\n",
    "json_print(result)"
   ]
  },
  {
   "cell_type": "code",
   "execution_count": null,
   "metadata": {},
   "outputs": [],
   "source": [
    "generate_prompt = \"Summarize what these posts are about in two paragraphs.\"\n",
    "\n",
    "result = (\n",
    "  client.query\n",
    "  .get(\"Wikipedia\", [\"title\",\"text\"])\n",
    "  .with_generate(grouped_task=generate_prompt) # Pass in all objects at once\n",
    "  .with_near_text({\n",
    "    \"concepts\": [\"Vacation spots in california\"]\n",
    "  })\n",
    "  .with_limit(3)\n",
    ").do()\n",
    "\n",
    "json_print(result)"
   ]
  }
 ],
 "metadata": {
  "language_info": {
   "name": "python"
  }
 },
 "nbformat": 4,
 "nbformat_minor": 2
}
