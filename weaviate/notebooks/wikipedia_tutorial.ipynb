{
 "cells": [
  {
   "cell_type": "markdown",
   "metadata": {},
   "source": [
    "# Wikipedia with custom vectors\n",
    "\n",
    "Following through Weaviate tutorial using a large dataset (25k articles from Wikipedia)\n",
    "\n",
    "Follow the links on [this page](https://weaviate.io/developers/weaviate/tutorials/wikipedia) to download the dataset.\n",
    "\n",
    "### Setup"
   ]
  },
  {
   "cell_type": "code",
   "execution_count": 8,
   "metadata": {},
   "outputs": [],
   "source": [
    "import os\n",
    "import ast\n",
    "import json\n",
    "import requests\n",
    "import weaviate\n",
    "\n",
    "import pandas as pd\n",
    "\n",
    "from dotenv import load_dotenv, find_dotenv"
   ]
  },
  {
   "cell_type": "code",
   "execution_count": 2,
   "metadata": {},
   "outputs": [],
   "source": [
    "_ = load_dotenv(find_dotenv()) # read local .env file\n",
    "\n",
    "weaviate_url = os.getenv(\"WEAVIATE_URL\") \n",
    "weaviate_key = os.getenv(\"WEAVIATE_API_KEY\")\n",
    "openai_key = os.getenv(\"OPENAI_API_KEY\")"
   ]
  },
  {
   "cell_type": "code",
   "execution_count": 3,
   "metadata": {},
   "outputs": [
    {
     "name": "stderr",
     "output_type": "stream",
     "text": [
      "/Users/longbe01/Documents/projects/llm-rag/venv-llm-rag/lib/python3.10/site-packages/weaviate/warnings.py:162: DeprecationWarning: Dep016: Python client v3 `weaviate.Client(...)` connections and methods are deprecated. Update\n",
      "            your code to use Python client v4 `weaviate.WeaviateClient` connections and methods.\n",
      "\n",
      "            For Python Client v4 usage, see: https://weaviate.io/developers/weaviate/client-libraries/python\n",
      "            For code migration, see: https://weaviate.io/developers/weaviate/client-libraries/python/v3_v4_migration\n",
      "            \n",
      "  warnings.warn(\n"
     ]
    },
    {
     "data": {
      "text/plain": [
       "True"
      ]
     },
     "execution_count": 3,
     "metadata": {},
     "output_type": "execute_result"
    }
   ],
   "source": [
    "# Connect to local Weaviate instance running in docker\n",
    "weaviate_client = weaviate.Client(\n",
    "    url=weaviate_url,  \n",
    "    auth_client_secret=weaviate.auth.AuthApiKey(api_key=weaviate_key),  \n",
    "    additional_headers={\n",
    "        \"X-OpenAI-Api-Key\": openai_key\n",
    "    }\n",
    ")\n",
    "weaviate_client.is_ready()"
   ]
  },
  {
   "cell_type": "markdown",
   "metadata": {},
   "source": [
    "### Create the schema"
   ]
  },
  {
   "cell_type": "code",
   "execution_count": 4,
   "metadata": {},
   "outputs": [],
   "source": [
    "generation_config = {\n",
    "    \"text2vec-openai\": {\n",
    "            \"model\": \"ada\",\n",
    "            \"modelVersion\": \"002\",\n",
    "            \"type\": \"text\",\n",
    "            \"vectorizeClassName\": False\n",
    "        }\n",
    "}"
   ]
  },
  {
   "cell_type": "code",
   "execution_count": 5,
   "metadata": {},
   "outputs": [
    {
     "name": "stdout",
     "output_type": "stream",
     "text": [
      "Created schema\n"
     ]
    }
   ],
   "source": [
    "article_class = {\n",
    "    \"class\": \"Article\",\n",
    "    \"description\": \"An article from the Simple English Wikipedia data set\",\n",
    "    \"vectorizer\": \"text2vec-openai\",\n",
    "    \"moduleConfig\": generation_config,\n",
    "    \"properties\": [\n",
    "        {\n",
    "            \"name\": \"title\",\n",
    "            \"description\": \"The title of the article\",\n",
    "            \"dataType\": [\"text\"],\n",
    "            # Don't vectorize the title\n",
    "            \"moduleConfig\": {\"text2vec-openai\": {\"skip\": True}}\n",
    "        },\n",
    "        {\n",
    "            \"name\": \"content\",\n",
    "            \"description\": \"The content of the article\",\n",
    "            \"dataType\": [\"text\"],\n",
    "        }\n",
    "    ]\n",
    "}\n",
    "\n",
    "# Add the Article class to the schema\n",
    "weaviate_client.schema.create_class(article_class)\n",
    "print('Created schema')"
   ]
  },
  {
   "cell_type": "markdown",
   "metadata": {},
   "source": [
    "### Import the articles\n",
    "\n",
    "Load the articles into the vectorDB using batch import. "
   ]
  },
  {
   "cell_type": "code",
   "execution_count": 7,
   "metadata": {},
   "outputs": [],
   "source": [
    "csv_iterator = pd.read_csv(\n",
    "    '../data/vector_database_wikipedia_articles_embedded.csv',\n",
    "    usecols=['id', 'url', 'title', 'text', 'content_vector'],\n",
    "    chunksize=100,  # number of rows per chunk\n",
    "    # nrows=350  # optionally limit the number of rows to import\n",
    ")"
   ]
  },
  {
   "cell_type": "code",
   "execution_count": 9,
   "metadata": {},
   "outputs": [
    {
     "name": "stdout",
     "output_type": "stream",
     "text": [
      "Imported 100 articles...\n",
      "Imported 200 articles...\n",
      "Imported 300 articles...\n",
      "Imported 400 articles...\n",
      "Imported 500 articles...\n",
      "Imported 600 articles...\n",
      "Imported 700 articles...\n",
      "Imported 800 articles...\n",
      "Imported 900 articles...\n",
      "Imported 1000 articles...\n",
      "Imported 1100 articles...\n",
      "Imported 1200 articles...\n",
      "Imported 1300 articles...\n",
      "Imported 1400 articles...\n",
      "Imported 1500 articles...\n",
      "Imported 1600 articles...\n",
      "Imported 1700 articles...\n",
      "Imported 1800 articles...\n",
      "Imported 1900 articles...\n",
      "Imported 2000 articles...\n",
      "Imported 2100 articles...\n",
      "Imported 2200 articles...\n",
      "Imported 2300 articles...\n",
      "Imported 2400 articles...\n",
      "Imported 2500 articles...\n",
      "Imported 2600 articles...\n",
      "Imported 2700 articles...\n",
      "Imported 2800 articles...\n",
      "Imported 2900 articles...\n",
      "Imported 3000 articles...\n",
      "Imported 3100 articles...\n",
      "Imported 3200 articles...\n",
      "Imported 3300 articles...\n",
      "Imported 3400 articles...\n",
      "Imported 3500 articles...\n",
      "Imported 3600 articles...\n",
      "Imported 3700 articles...\n",
      "Imported 3800 articles...\n",
      "Imported 3900 articles...\n",
      "Imported 4000 articles...\n",
      "Imported 4100 articles...\n",
      "Imported 4200 articles...\n",
      "Imported 4300 articles...\n",
      "Imported 4400 articles...\n",
      "Imported 4500 articles...\n",
      "Imported 4600 articles...\n",
      "Imported 4700 articles...\n",
      "Imported 4800 articles...\n",
      "Imported 4900 articles...\n",
      "Imported 5000 articles...\n",
      "Imported 5100 articles...\n",
      "Imported 5200 articles...\n",
      "Imported 5300 articles...\n",
      "Imported 5400 articles...\n",
      "Imported 5500 articles...\n",
      "Imported 5600 articles...\n",
      "Imported 5700 articles...\n",
      "Imported 5800 articles...\n",
      "Imported 5900 articles...\n",
      "Imported 6000 articles...\n",
      "Imported 6100 articles...\n",
      "Imported 6200 articles...\n",
      "Imported 6300 articles...\n",
      "Imported 6400 articles...\n",
      "Imported 6500 articles...\n",
      "Imported 6600 articles...\n",
      "Imported 6700 articles...\n",
      "Imported 6800 articles...\n",
      "Imported 6900 articles...\n",
      "Imported 7000 articles...\n",
      "Imported 7100 articles...\n",
      "Imported 7200 articles...\n",
      "Imported 7300 articles...\n",
      "Imported 7400 articles...\n",
      "Imported 7500 articles...\n",
      "Imported 7600 articles...\n",
      "Imported 7700 articles...\n",
      "Imported 7800 articles...\n",
      "Imported 7900 articles...\n",
      "Imported 8000 articles...\n",
      "Imported 8100 articles...\n",
      "Imported 8200 articles...\n",
      "Imported 8300 articles...\n",
      "Imported 8400 articles...\n",
      "Imported 8500 articles...\n",
      "Imported 8600 articles...\n",
      "Imported 8700 articles...\n",
      "Imported 8800 articles...\n",
      "Imported 8900 articles...\n",
      "Imported 9000 articles...\n",
      "Imported 9100 articles...\n",
      "Imported 9200 articles...\n",
      "Imported 9300 articles...\n",
      "Imported 9400 articles...\n",
      "Imported 9500 articles...\n",
      "Imported 9600 articles...\n",
      "Imported 9700 articles...\n",
      "Imported 9800 articles...\n",
      "Imported 9900 articles...\n",
      "Imported 10000 articles...\n",
      "Imported 10100 articles...\n",
      "Imported 10200 articles...\n",
      "Imported 10300 articles...\n",
      "Imported 10400 articles...\n",
      "Imported 10500 articles...\n",
      "Imported 10600 articles...\n",
      "Imported 10700 articles...\n",
      "Imported 10800 articles...\n",
      "Imported 10900 articles...\n",
      "Imported 11000 articles...\n",
      "Imported 11100 articles...\n",
      "Imported 11200 articles...\n",
      "Imported 11300 articles...\n",
      "Imported 11400 articles...\n",
      "Imported 11500 articles...\n",
      "Imported 11600 articles...\n",
      "Imported 11700 articles...\n",
      "Imported 11800 articles...\n",
      "Imported 11900 articles...\n",
      "Imported 12000 articles...\n",
      "Imported 12100 articles...\n",
      "Imported 12200 articles...\n",
      "Imported 12300 articles...\n",
      "Imported 12400 articles...\n",
      "Imported 12500 articles...\n",
      "Imported 12600 articles...\n",
      "Imported 12700 articles...\n",
      "Imported 12800 articles...\n",
      "Imported 12900 articles...\n",
      "Imported 13000 articles...\n",
      "Imported 13100 articles...\n",
      "Imported 13200 articles...\n",
      "Imported 13300 articles...\n",
      "Imported 13400 articles...\n",
      "Imported 13500 articles...\n",
      "Imported 13600 articles...\n",
      "Imported 13700 articles...\n",
      "Imported 13800 articles...\n",
      "Imported 13900 articles...\n",
      "Imported 14000 articles...\n",
      "Imported 14100 articles...\n",
      "Imported 14200 articles...\n",
      "Imported 14300 articles...\n",
      "Imported 14400 articles...\n",
      "Imported 14500 articles...\n",
      "Imported 14600 articles...\n",
      "Imported 14700 articles...\n",
      "Imported 14800 articles...\n",
      "Imported 14900 articles...\n",
      "Imported 15000 articles...\n",
      "Imported 15100 articles...\n",
      "Imported 15200 articles...\n",
      "Imported 15300 articles...\n",
      "Imported 15400 articles...\n",
      "Imported 15500 articles...\n",
      "Imported 15600 articles...\n",
      "Imported 15700 articles...\n",
      "Imported 15800 articles...\n",
      "Imported 15900 articles...\n",
      "Imported 16000 articles...\n",
      "Imported 16100 articles...\n",
      "Imported 16200 articles...\n",
      "Imported 16300 articles...\n",
      "Imported 16400 articles...\n",
      "Imported 16500 articles...\n",
      "Imported 16600 articles...\n",
      "Imported 16700 articles...\n",
      "Imported 16800 articles...\n",
      "Imported 16900 articles...\n",
      "Imported 17000 articles...\n",
      "Imported 17100 articles...\n",
      "Imported 17200 articles...\n",
      "Imported 17300 articles...\n",
      "Imported 17400 articles...\n",
      "Imported 17500 articles...\n",
      "Imported 17600 articles...\n",
      "Imported 17700 articles...\n",
      "Imported 17800 articles...\n",
      "Imported 17900 articles...\n",
      "Imported 18000 articles...\n",
      "Imported 18100 articles...\n",
      "Imported 18200 articles...\n",
      "Imported 18300 articles...\n",
      "Imported 18400 articles...\n",
      "Imported 18500 articles...\n",
      "Imported 18600 articles...\n",
      "Imported 18700 articles...\n",
      "Imported 18800 articles...\n",
      "Imported 18900 articles...\n",
      "Imported 19000 articles...\n",
      "Imported 19100 articles...\n",
      "Imported 19200 articles...\n",
      "Imported 19300 articles...\n",
      "Imported 19400 articles...\n",
      "Imported 19500 articles...\n",
      "Imported 19600 articles...\n",
      "Imported 19700 articles...\n",
      "Imported 19800 articles...\n",
      "Imported 19900 articles...\n",
      "Imported 20000 articles...\n",
      "Imported 20100 articles...\n",
      "Imported 20200 articles...\n",
      "Imported 20300 articles...\n",
      "Imported 20400 articles...\n",
      "Imported 20500 articles...\n",
      "Imported 20600 articles...\n",
      "Imported 20700 articles...\n",
      "Imported 20800 articles...\n",
      "Imported 20900 articles...\n",
      "Imported 21000 articles...\n",
      "Imported 21100 articles...\n",
      "Imported 21200 articles...\n",
      "Imported 21300 articles...\n",
      "Imported 21400 articles...\n",
      "Imported 21500 articles...\n",
      "Imported 21600 articles...\n",
      "Imported 21700 articles...\n",
      "Imported 21800 articles...\n",
      "Imported 21900 articles...\n",
      "Imported 22000 articles...\n",
      "Imported 22100 articles...\n",
      "Imported 22200 articles...\n",
      "Imported 22300 articles...\n",
      "Imported 22400 articles...\n",
      "Imported 22500 articles...\n",
      "Imported 22600 articles...\n",
      "Imported 22700 articles...\n",
      "Imported 22800 articles...\n",
      "Imported 22900 articles...\n",
      "Imported 23000 articles...\n",
      "Imported 23100 articles...\n",
      "Imported 23200 articles...\n",
      "Imported 23300 articles...\n",
      "Imported 23400 articles...\n",
      "Imported 23500 articles...\n",
      "Imported 23600 articles...\n",
      "Imported 23700 articles...\n",
      "Imported 23800 articles...\n",
      "Imported 23900 articles...\n",
      "Imported 24000 articles...\n",
      "Imported 24100 articles...\n",
      "Imported 24200 articles...\n",
      "Imported 24300 articles...\n",
      "Imported 24400 articles...\n",
      "Imported 24500 articles...\n",
      "Imported 24600 articles...\n",
      "Imported 24700 articles...\n",
      "Imported 24800 articles...\n",
      "Imported 24900 articles...\n",
      "Imported 25000 articles...\n",
      "Finished importing 25000 articles.\n"
     ]
    }
   ],
   "source": [
    "counter = 0\n",
    "interval = 100  # print progress every this many records\n",
    "\n",
    "# Iterate through the dataframe chunks and add each CSV record to the batch\n",
    "weaviate_client.batch.configure(batch_size=100)  # Configure batch\n",
    "\n",
    "with weaviate_client.batch as batch:\n",
    "  for chunk in csv_iterator:\n",
    "      for index, row in chunk.iterrows():\n",
    "\n",
    "          properties = {\n",
    "              \"title\": row.title,\n",
    "              \"content\": row.text,\n",
    "              \"url\": row.url\n",
    "          }\n",
    "\n",
    "          # Convert the vector from CSV string back to array of floats\n",
    "          vector = ast.literal_eval(row.content_vector)\n",
    "\n",
    "          # Add the object to the batch, and set its vector embedding\n",
    "          batch.add_data_object(properties, \"Article\", vector=vector)\n",
    "\n",
    "          # Calculate and display progress\n",
    "          counter += 1\n",
    "          if counter % interval == 0:\n",
    "              print(f\"Imported {counter} articles...\")\n",
    "\n",
    "\n",
    "print(f\"Finished importing {counter} articles.\")"
   ]
  },
  {
   "cell_type": "markdown",
   "metadata": {},
   "source": [
    "Sense check the data has been imported correctly"
   ]
  },
  {
   "cell_type": "code",
   "execution_count": 11,
   "metadata": {},
   "outputs": [
    {
     "name": "stdout",
     "output_type": "stream",
     "text": [
      "{'data': {'Aggregate': {'Article': [{'meta': {'count': 25000}}]}}}\n"
     ]
    }
   ],
   "source": [
    "count = weaviate_client.query.aggregate(\"Article\").with_meta_count().do()\n",
    "print(count)"
   ]
  },
  {
   "cell_type": "code",
   "execution_count": 12,
   "metadata": {},
   "outputs": [
    {
     "name": "stdout",
     "output_type": "stream",
     "text": [
      "{'data': {'Get': {'Article': [{'_additional': {'id': '0000e74a-900b-4960-afe8-065d00ff694f'}, 'title': \"Zaiger's Genetics\", 'url': 'https://simple.wikipedia.org/wiki/Zaiger%27s%20Genetics'}]}}}\n"
     ]
    }
   ],
   "source": [
    "response = weaviate_client.query.get(\"Article\", [\"title\",\"url\"]).with_additional(\"id\").with_limit(1).do()\n",
    "print(response)"
   ]
  },
  {
   "cell_type": "code",
   "execution_count": 13,
   "metadata": {},
   "outputs": [
    {
     "name": "stdout",
     "output_type": "stream",
     "text": [
      "{'data': {'Get': {'Article': [{'_additional': {'id': '0000e74a-900b-4960-afe8-065d00ff694f'}, 'content': 'Zaiger\\'s Genetics is an American company that breeds fruit trees. They are in Modesto, California. They have created fruits such as the Aprium (apricot and plum), the Nectarcot (nectarine and apricot), Peacotum (peach, apricot and plum) and the pluot (plum and apricot).\\n\\nThey are dedicated to improving fruit worldwide.\\n\\nIn 2009 Floyd Zaiger was named one of the \"top ten most creative people in food\" by Fast Company.\\n\\nZaiger\\'s Genetics gives fruit tours to commercial growers every Wednesday. An article in Western Fruit Grower titled \"Wednesdays With Floyd\" described a typical Wednesday with the Zaiger family.\\n\\nReferences\\n\\nOther websites\\nFamily story \\n\\nCompanies based in California\\nAgriculture', 'title': \"Zaiger's Genetics\", 'url': 'https://simple.wikipedia.org/wiki/Zaiger%27s%20Genetics'}]}}}\n"
     ]
    }
   ],
   "source": [
    "response = weaviate_client.query.get(\"Article\", [\"title\",\"url\",\"content\"]).with_additional(\"id\").with_limit(1).do()\n",
    "print(response)"
   ]
  },
  {
   "cell_type": "markdown",
   "metadata": {},
   "source": [
    "### Queries"
   ]
  },
  {
   "cell_type": "code",
   "execution_count": 14,
   "metadata": {},
   "outputs": [
    {
     "name": "stdout",
     "output_type": "stream",
     "text": [
      "{\n",
      "    \"data\": {\n",
      "        \"Get\": {\n",
      "            \"Article\": [\n",
      "                {\n",
      "                    \"content\": \"documenta is one of the most important exhibitions of modern art in the world. Since 1955, it takes place every five years in Kassel, Germany. More than 1.2 million people visited the last one, documenta\\u00a014, which was held in 2017. The next one, documenta\\u00a015, will be from June 18 to September 25, 2022.\\n\\nRelated pages\\n\\nGerman art\\n\\nArt\",\n",
      "                    \"title\": \"Documenta\"\n",
      "                }\n",
      "            ]\n",
      "        }\n",
      "    }\n",
      "}\n"
     ]
    }
   ],
   "source": [
    "response = (\n",
    "    weaviate_client.query\n",
    "    .get(\"Article\", [\"title\", \"content\"])\n",
    "    .with_near_text({\"concepts\": [\"modern art in Europe\"]})\n",
    "    .with_limit(1)\n",
    "    .do()\n",
    ")\n",
    "print(json.dumps(response, indent=4))"
   ]
  },
  {
   "cell_type": "code",
   "execution_count": 15,
   "metadata": {},
   "outputs": [
    {
     "name": "stdout",
     "output_type": "stream",
     "text": [
      "{\n",
      "    \"data\": {\n",
      "        \"Get\": {\n",
      "            \"Article\": [\n",
      "                {\n",
      "                    \"content\": \"Jackfruit (also called \\\"Jakfruit\\\") is a type of fruit from India, Bangladesh (National fruit) and Sri Lanka. When a Jackfruit ripens, it changes from green to slightly yellow.\\n\\nReferences\\n\\nOther websites \\n \\n\\nTropical fruit\\nMoraceae\\nNational symbols of Bangladesh\\nNational symbols of Sri Lanka\",\n",
      "                    \"title\": \"Jackfruit\"\n",
      "                },\n",
      "                {\n",
      "                    \"content\": \"The cherry tomato is a type of tomato that is a fruit. This type of tomato was originally developed in Israel.\\n\\nTomatoes\\n\\nde:Kirschtomate\",\n",
      "                    \"title\": \"Cherry tomato\"\n",
      "                },\n",
      "                {\n",
      "                    \"content\": \"In botany, a fruit is a plant structure that contains the plant's seeds. \\n\\nTo a botanist, the word fruit is used only if it comes from the part of the flower which was an ovary. It is an extra layer round the seeds, which may or may not be fleshy. However, even in the field of botany, there is no general agreement on how fruits should be classified. Many do have extra layers from other parts of the flower.\\n\\nIn general speech, and especially in cooking, fruits are a |sweet product, and many botanical fruits are known as vegetables. This is how ordinary people use the words. On this page, we describe what botanists call a fruit.\\n\\nThe fleshy part of a fruit is called the mesocarp. It is between the fruit's skin (exocarp) and the seeds. The white part of an apple, for example, is the \\\"fleshy\\\" part of the apple. Usually, when we eat a fruit, we eat the \\\"fleshy\\\" part.\\n\\nTypes of fruits\\n\\nBerry\\nIf the entire fruit is fleshy, except for maybe a thin skin, the fruit is called a berry. A berry might contain one seed or many. Grapes, avocados, and blueberries are berries. They all have a thin skin, but most of the fruit is fleshy. Don't get confused by the name of fruits like strawberries, because actually they are not berries. The seeds are on the outside: on a real berry, the seed or seeds are inside the fruit.\\n\\nPepo\\nA pepo (pronounced pee' po) is a modified berry. Its skin is hard and thick and is usually called a \\\"rind\\\". Pumpkins and watermelons, for instance, are pepos.\\n\\nHesperidium\\nA hesperidium is another modified berry. It has a leathery skin that is not as hard as the skin of a pepo. All citrus fruit like oranges and lemon are hesperidiums.\\n\\nPome\\n\\nA pome (pohm) is a fruit that has a core surrounded by fleshy tissue that one can eat. The core is usually not eaten. Berries are different - the seeds are inside the fleshy part, not separated from it by a core. apples and pears are pomes.\\n\\nDrupe\\n\\nDrupes are also called stone fruit. A drupe is a fleshy fruit with a hard stone around the seed. We usually call this 'stone' the 'pit' of the fruit. Peaches and olives are drupes. Actually, the almond fruit is a drupe, too, though we eat the seed that is inside the 'pit' of the almond fruit.\\n\\nBotanical fruits\\nSince fruits are produced from fertilised ovaries in flowers, only flowering plants produce fruits. Fruits are an evolutionary 'invention' which help seeds get dispersed by animals.\\n\\nThe botanical term includes many that are not 'fruits' in the common sense of the term. such as the vegetables squash, pumpkins, cucumbers, tomato, peas, beans, corn, eggplant, and sweet pepper and some spices, such as allspice and chillies.\\n\\nAccessory fruits\\n\\nAn accessory fruit or false fruit (pseudocarp) is a fruit in which some of the flesh is derived not from the ovary but from some adjacent tissue.\\n\\nA fig is a type of accessory fruit called a syconium. Pomes, such as apples and pears, are also accessory fruits: the core is the true fruit.\\n\\nNon-botanical fruits\\nStrictly speaking, these are not botanical fruits: \\n any produced by non-flowering plants, like juniper berries, which are the seed-containing female cones of conifers.\\n fleshy fruit-like growths that develop from other plant tissues (like rhubarb).\\n\\nArea of agreement\\nThese are fruits which you can buy in shops, and which are also acceptable as botanical fruits:\\n berry fruits: redcurrant, gooseberry, cranberry, blueberry Also, but not commonly known as berry fruits, are tomato, avocado, banana.\\n false berries: raspberry, strawberry, blackberry: they are aggregate fruits (see below). The yew berry is not a fruit at all because the yew is a conifer.\\n stone fruits or drupes: plum, cherry, peach, apricot, olive.\\n citrus fruits, like oranges, grapefruits, and tangerines.\\n aggregate fruits: raspberries, blackberries.\\n multiple fruits: pineapples, figs.\\n\\nMany fruits come from trees or bushes. For plants, fruits are a means of dispersal, usually by animals. When the fruit is eaten, the seed(s) are not digested, and get excreted. Where fruits have big stones, just the soft parts are eaten. \\n\\nMost fruits we eat contain a lot of water and natural sugars, and many are high in Vitamin C. They have a large amount of dietary fibre. Fruits are usually low in protein and fat content, but avocados and some nuts are exceptions to this. Not only humans, but our closest living relatives (primates) are keen fruit-eaters. So are many other groups of herbivorous mammals and many birds.\\n\\nSeedless fruits\\nSeedlessness is an important feature of some fruits of commerce. Commercial bananas, pineapple, and watermelons are examples of seedless fruits. Some citrus fruits, especially oranges, satsumas, mandarin oranges, and grapefruit are valued for their seedlessness.\\n\\nSeedless bananas and grapes are triploids, and seedlessness results from the abortion of the embryonic plant which is produced by fertilisation. The method requires normal pollination and fertilisation.\\n\\nRelated pages\\n List of fruit\\n\\nReferences\\n\\nBasic English 850 words\",\n",
      "                    \"title\": \"Fruit\"\n",
      "                }\n",
      "            ]\n",
      "        }\n",
      "    }\n",
      "}\n"
     ]
    }
   ],
   "source": [
    "response = (\n",
    "    weaviate_client.query\n",
    "    .get(\"Article\", [\"title\", \"content\"])\n",
    "    .with_hybrid(\"jackfruit\", alpha=0.5)  # default 0.75\n",
    "    .with_limit(3)\n",
    "    .do()\n",
    ")\n",
    "print(json.dumps(response, indent=4))"
   ]
  },
  {
   "cell_type": "code",
   "execution_count": null,
   "metadata": {},
   "outputs": [],
   "source": []
  }
 ],
 "metadata": {
  "kernelspec": {
   "display_name": "venv-llm-rag",
   "language": "python",
   "name": "python3"
  },
  "language_info": {
   "codemirror_mode": {
    "name": "ipython",
    "version": 3
   },
   "file_extension": ".py",
   "mimetype": "text/x-python",
   "name": "python",
   "nbconvert_exporter": "python",
   "pygments_lexer": "ipython3",
   "version": "3.10.5"
  }
 },
 "nbformat": 4,
 "nbformat_minor": 2
}
