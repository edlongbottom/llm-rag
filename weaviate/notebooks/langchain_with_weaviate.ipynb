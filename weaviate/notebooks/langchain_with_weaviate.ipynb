{
 "cells": [
  {
   "cell_type": "markdown",
   "metadata": {},
   "source": [
    "# Working with Langchain\n",
    "\n",
    "### Setup"
   ]
  },
  {
   "cell_type": "code",
   "execution_count": 1,
   "metadata": {},
   "outputs": [],
   "source": [
    "import os\n",
    "import ast\n",
    "import json\n",
    "import requests\n",
    "import weaviate\n",
    "\n",
    "import pandas as pd\n",
    "\n",
    "from dotenv import load_dotenv, find_dotenv\n",
    "from langchain_weaviate.vectorstores import WeaviateVectorStore"
   ]
  },
  {
   "cell_type": "code",
   "execution_count": 2,
   "metadata": {},
   "outputs": [],
   "source": [
    "_ = load_dotenv(find_dotenv()) # read local .env file\n",
    "\n",
    "weaviate_url = os.getenv(\"WEAVIATE_URL\") \n",
    "weaviate_key = os.getenv(\"WEAVIATE_API_KEY\")\n",
    "openai_key = os.getenv(\"OPENAI_API_KEY\")"
   ]
  },
  {
   "cell_type": "code",
   "execution_count": 3,
   "metadata": {},
   "outputs": [
    {
     "name": "stderr",
     "output_type": "stream",
     "text": [
      "/Users/longbe01/Documents/projects/llm-rag/venv-llm-rag/lib/python3.10/site-packages/weaviate/warnings.py:162: DeprecationWarning: Dep016: Python client v3 `weaviate.Client(...)` connections and methods are deprecated. Update\n",
      "            your code to use Python client v4 `weaviate.WeaviateClient` connections and methods.\n",
      "\n",
      "            For Python Client v4 usage, see: https://weaviate.io/developers/weaviate/client-libraries/python\n",
      "            For code migration, see: https://weaviate.io/developers/weaviate/client-libraries/python/v3_v4_migration\n",
      "            \n",
      "  warnings.warn(\n"
     ]
    },
    {
     "data": {
      "text/plain": [
       "True"
      ]
     },
     "execution_count": 3,
     "metadata": {},
     "output_type": "execute_result"
    }
   ],
   "source": [
    "# Connect to local Weaviate instance running in docker\n",
    "weaviate_client = weaviate.Client(\n",
    "    url=weaviate_url,  \n",
    "    auth_client_secret=weaviate.auth.AuthApiKey(api_key=weaviate_key),  \n",
    "    additional_headers={\n",
    "        \"X-OpenAI-Api-Key\": openai_key\n",
    "    }\n",
    ")\n",
    "weaviate_client.is_ready()"
   ]
  },
  {
   "cell_type": "markdown",
   "metadata": {},
   "source": [
    "### Document loading and splitting\n",
    "\n",
    "Try text splitting"
   ]
  },
  {
   "cell_type": "code",
   "execution_count": 4,
   "metadata": {},
   "outputs": [],
   "source": [
    "from langchain.text_splitter import TokenTextSplitter, RecursiveCharacterTextSplitter, CharacterTextSplitter, MarkdownHeaderTextSplitter"
   ]
  },
  {
   "cell_type": "code",
   "execution_count": 78,
   "metadata": {},
   "outputs": [
    {
     "name": "stdout",
     "output_type": "stream",
     "text": [
      "Number of chunks: 21\n",
      "Typical length of a chunk: 3740 characters\n"
     ]
    }
   ],
   "source": [
    "# text - split on characters\n",
    "with open(\"../data/paul_graham_essay.txt\", \"r\") as f:\n",
    "    essay = f.read()\n",
    "\n",
    "text_splitter = CharacterTextSplitter(separator=\".\\n\\n\", chunk_size=4000, chunk_overlap=0)\n",
    "chunks = text_splitter.split_text(essay)\n",
    "\n",
    "print(f\"Number of chunks: {len(chunks)}\")\n",
    "print(f\"Typical length of a chunk: {len(chunks[0])} characters\")"
   ]
  },
  {
   "cell_type": "markdown",
   "metadata": {},
   "source": [
    "Try splitting by token"
   ]
  },
  {
   "cell_type": "code",
   "execution_count": 83,
   "metadata": {},
   "outputs": [
    {
     "name": "stdout",
     "output_type": "stream",
     "text": [
      "Number of chunks: 17\n",
      "Typical length of a chunk: 4394 characters\n"
     ]
    }
   ],
   "source": [
    "token_text_splitter = TokenTextSplitter(chunk_size=1000, chunk_overlap=0)\n",
    "token_chunks = token_text_splitter.split_text(essay)\n",
    "\n",
    "print(f\"Number of chunks: {len(token_chunks)}\")\n",
    "print(f\"Typical length of a chunk: {len(token_chunks[0])} characters\")"
   ]
  },
  {
   "cell_type": "code",
   "execution_count": 84,
   "metadata": {},
   "outputs": [
    {
     "name": "stdout",
     "output_type": "stream",
     "text": [
      "\n",
      "\n",
      "What I Worked On\n",
      "\n",
      "February 2021\n",
      "\n",
      "Before college the two main things I worked on, outside of school, were writing and programming. I didn't write essays. I wrote what beginning writers were supposed to write then, and probably still are: short stories. My stories were awful. They had hardly any plot, just characters with strong feelings, which I imagined made them deep.\n",
      "\n",
      "The first programs I tried writing were on the IBM 1401 that our school district used for what was then called \"data processing.\" This was in 9th grade, so I was 13 or 14. The school district's 1401 happened to be in the basement of our junior high school, and my friend Rich Draves and I got permission to use it. It was like a mini Bond villain's lair down there, with all these alien-looking machines — CPU, disk drives, printer, card reader — sitting up on a raised floor under bright fluorescent lights.\n",
      "\n",
      "The language we used was an early version of Fortran. You had to type programs on punch cards, then stack them in the card reader and press a button to load the program into memory and run it. The result would ordinarily be to print something on the spectacularly loud printer.\n",
      "\n",
      "I was puzzled by the 1401. I couldn't figure out what to do with it. And in retrospect there's not much I could have done with it. The only form of input to programs was data stored on punched cards, and I didn't have any data stored on punched cards. The only other option was to do things that didn't rely on any input, like calculate approximations of pi, but I didn't know enough math to do anything interesting of that type. So I'm not surprised I can't remember any programs I wrote, because they can't have done much. My clearest memory is of the moment I learned it was possible for programs not to terminate, when one of mine didn't. On a machine without time-sharing, this was a social as well as a technical error, as the data center manager's expression made clear.\n",
      "\n",
      "With microcomputers, everything changed. Now you could have a computer sitting right in front of you, on a desk, that could respond to your keystrokes as it was running instead of just churning through a stack of punch cards and then stopping. [1]\n",
      "\n",
      "The first of my friends to get a microcomputer built it himself. It was sold as a kit by Heathkit. I remember vividly how impressed and envious I felt watching him sitting in front of it, typing programs right into the computer.\n",
      "\n",
      "Computers were expensive in those days and it took me years of nagging before I convinced my father to buy one, a TRS-80, in about 1980. The gold standard then was the Apple II, but a TRS-80 was good enough. This was when I really started programming. I wrote simple games, a program to predict how high my model rockets would fly, and a word processor that my father used to write at least one book. There was only room in memory for about 2 pages of text, so he'd write 2 pages at a time and then print them out, but it was a lot better than a typewriter.\n",
      "\n",
      "Though I liked programming, I didn't plan to study it in college. In college I was going to study philosophy, which sounded much more powerful. It seemed, to my naive high school self, to be the study of the ultimate truths, compared to which the things studied in other fields would be mere domain knowledge. What I discovered when I got to college was that the other fields took up so much of the space of ideas that there wasn't much left for these supposed ultimate truths. All that seemed left for philosophy were edge cases that people in other fields felt could safely be ignored.\n",
      "\n",
      "I couldn't have put this into words when I was 18. All I knew at the time was that I kept taking philosophy courses and they kept being boring. So I decided to switch to AI.\n",
      "\n",
      "AI was in the air in the mid 1980s, but there were two things especially that made me want to work on it: a novel by Heinlein called The Moon is a Harsh Mistress, which featured an intelligent computer called Mike, and a PBS documentary that showed Terry Winograd using SHRDLU. I haven't tried rereading The Moon is a Harsh Mistress, so I don't know how well it has aged, but when I read it I was drawn entirely into its world. It seemed only a matter of time before we'd have Mike, and when I saw Winograd using SHRDLU, it seemed like that time would be a few years at most. All you had to do was teach SHRDLU more words.\n",
      "\n",
      "There weren't any classes\n"
     ]
    }
   ],
   "source": [
    "print(token_chunks[0])"
   ]
  },
  {
   "cell_type": "markdown",
   "metadata": {},
   "source": [
    "Try with markdown splitter - returns Document objects"
   ]
  },
  {
   "cell_type": "code",
   "execution_count": 87,
   "metadata": {},
   "outputs": [],
   "source": [
    "with open(\"../data/weaviate_readme.md\", \"r\") as f:\n",
    "    readme = f.read()"
   ]
  },
  {
   "cell_type": "code",
   "execution_count": 89,
   "metadata": {},
   "outputs": [],
   "source": [
    "markdown_splitter = MarkdownHeaderTextSplitter(\n",
    "    headers_to_split_on=[\n",
    "        (\"#\", \"Header 1\"),\n",
    "        (\"##\", \"Header 2\"),\n",
    "        (\"###\", \"Header 3\"),\n",
    "    ]\n",
    ")\n",
    "markdown_chunks = markdown_splitter.split_text(readme)\n",
    "# print(f\"Number of chunks: {len(markdown_chunks)}\")\n",
    "# print(f\"Typical length of a chunk: {len(markdown_chunks[0])} characters\")"
   ]
  },
  {
   "cell_type": "code",
   "execution_count": 93,
   "metadata": {},
   "outputs": [
    {
     "data": {
      "text/plain": [
       "{'page_content': \"<h1>Weaviate <img alt='Weaviate logo' src='https://weaviate.io/img/site/weaviate-logo-light.png' width='148' align='right' /></h1>  \\n[![Go Reference](https://pkg.go.dev/badge/github.com/weaviate/weaviate.svg)](https://pkg.go.dev/github.com/weaviate/weaviate)\\n[![Build Status](https://github.com/weaviate/weaviate/actions/workflows/.github/workflows/pull_requests.yaml/badge.svg?branch=main)](https://github.com/weaviate/weaviate/actions/workflows/.github/workflows/pull_requests.yaml)\\n[![Go Report Card](https://goreportcard.com/badge/github.com/weaviate/weaviate)](https://goreportcard.com/report/github.com/weaviate/weaviate)\\n[![Coverage Status](https://codecov.io/gh/weaviate/weaviate/branch/main/graph/badge.svg)](https://codecov.io/gh/weaviate/weaviate)\\n[![Slack](https://img.shields.io/badge/slack--channel-blue?logo=slack)](https://weaviate.io/slack)\\n[![GitHub Tutorials](https://img.shields.io/badge/Weaviate_Tutorials-green)](https://github.com/weaviate-tutorials/)\",\n",
       " 'metadata': {},\n",
       " 'type': 'Document'}"
      ]
     },
     "execution_count": 93,
     "metadata": {},
     "output_type": "execute_result"
    }
   ],
   "source": [
    "markdown_chunks[0].dict()"
   ]
  },
  {
   "cell_type": "code",
   "execution_count": 94,
   "metadata": {},
   "outputs": [
    {
     "data": {
      "text/plain": [
       "{'page_content': 'Weaviate is a cloud-native, **open source vector database** that is robust, fast, and scalable.  \\nTo get started quickly, have a look at one of these pages:  \\n- [Quickstart tutorial](https://weaviate.io/developers/weaviate/quickstart) To see Weaviate in action\\n- [Contributor guide](https://weaviate.io/developers/contributor-guide) To contribute to this project  \\nFor more details, read through the summary on this page or see the system [documentation](https://weaviate.io/developers/weaviate/).  \\n> [!NOTE]\\n> **Help us improve your experience** by sharing your feedback, ideas and thoughts: Fill out our [Community Experience Survey](https://forms.gle/hrFGMqtVkdSG6ne48), preferably by June 14th, 2024.  \\n---',\n",
       " 'metadata': {'Header 2': 'Overview'},\n",
       " 'type': 'Document'}"
      ]
     },
     "execution_count": 94,
     "metadata": {},
     "output_type": "execute_result"
    }
   ],
   "source": [
    "markdown_chunks[1].dict()"
   ]
  },
  {
   "cell_type": "code",
   "execution_count": 95,
   "metadata": {},
   "outputs": [
    {
     "data": {
      "text/plain": [
       "{'page_content': 'Weaviate uses state-of-the-art machine learning (ML) models to turn your data - text, images, and more - into a searchable vector database.  \\nHere are some highlights.',\n",
       " 'metadata': {'Header 2': 'Why Weaviate?'},\n",
       " 'type': 'Document'}"
      ]
     },
     "execution_count": 95,
     "metadata": {},
     "output_type": "execute_result"
    }
   ],
   "source": [
    "markdown_chunks[2].dict()"
   ]
  },
  {
   "cell_type": "markdown",
   "metadata": {},
   "source": [
    "Try with a PDF"
   ]
  },
  {
   "cell_type": "code",
   "execution_count": 5,
   "metadata": {},
   "outputs": [],
   "source": [
    "from langchain.document_loaders import PyPDFLoader"
   ]
  },
  {
   "cell_type": "code",
   "execution_count": 6,
   "metadata": {},
   "outputs": [
    {
     "name": "stderr",
     "output_type": "stream",
     "text": [
      "Ignoring wrong pointing object 42 0 (offset 0)\n",
      "Ignoring wrong pointing object 79 0 (offset 0)\n",
      "Ignoring wrong pointing object 81 0 (offset 0)\n",
      "Ignoring wrong pointing object 83 0 (offset 0)\n",
      "Ignoring wrong pointing object 109 0 (offset 0)\n",
      "Ignoring wrong pointing object 127 0 (offset 0)\n",
      "Ignoring wrong pointing object 133 0 (offset 0)\n",
      "Ignoring wrong pointing object 156 0 (offset 0)\n",
      "Ignoring wrong pointing object 181 0 (offset 0)\n",
      "Ignoring wrong pointing object 244 0 (offset 0)\n",
      "Ignoring wrong pointing object 259 0 (offset 0)\n",
      "Ignoring wrong pointing object 362 0 (offset 0)\n",
      "Ignoring wrong pointing object 364 0 (offset 0)\n",
      "Ignoring wrong pointing object 401 0 (offset 0)\n",
      "Ignoring wrong pointing object 403 0 (offset 0)\n",
      "Ignoring wrong pointing object 406 0 (offset 0)\n",
      "Ignoring wrong pointing object 416 0 (offset 0)\n",
      "Ignoring wrong pointing object 419 0 (offset 0)\n",
      "Ignoring wrong pointing object 424 0 (offset 0)\n",
      "Ignoring wrong pointing object 433 0 (offset 0)\n",
      "Ignoring wrong pointing object 473 0 (offset 0)\n",
      "Ignoring wrong pointing object 581 0 (offset 0)\n",
      "Ignoring wrong pointing object 585 0 (offset 0)\n",
      "Ignoring wrong pointing object 587 0 (offset 0)\n",
      "Ignoring wrong pointing object 590 0 (offset 0)\n",
      "Ignoring wrong pointing object 612 0 (offset 0)\n",
      "Ignoring wrong pointing object 614 0 (offset 0)\n",
      "Ignoring wrong pointing object 621 0 (offset 0)\n",
      "Ignoring wrong pointing object 673 0 (offset 0)\n",
      "Ignoring wrong pointing object 769 0 (offset 0)\n",
      "Ignoring wrong pointing object 796 0 (offset 0)\n",
      "Ignoring wrong pointing object 799 0 (offset 0)\n",
      "Ignoring wrong pointing object 805 0 (offset 0)\n",
      "Ignoring wrong pointing object 820 0 (offset 0)\n",
      "Ignoring wrong pointing object 822 0 (offset 0)\n",
      "Ignoring wrong pointing object 831 0 (offset 0)\n",
      "Ignoring wrong pointing object 834 0 (offset 0)\n",
      "Ignoring wrong pointing object 949 0 (offset 0)\n",
      "Ignoring wrong pointing object 952 0 (offset 0)\n",
      "Ignoring wrong pointing object 954 0 (offset 0)\n",
      "Ignoring wrong pointing object 963 0 (offset 0)\n",
      "Ignoring wrong pointing object 965 0 (offset 0)\n",
      "Ignoring wrong pointing object 967 0 (offset 0)\n",
      "Ignoring wrong pointing object 980 0 (offset 0)\n",
      "Ignoring wrong pointing object 991 0 (offset 0)\n",
      "Ignoring wrong pointing object 1024 0 (offset 0)\n",
      "Ignoring wrong pointing object 1030 0 (offset 0)\n",
      "Ignoring wrong pointing object 1033 0 (offset 0)\n",
      "Ignoring wrong pointing object 1036 0 (offset 0)\n",
      "Ignoring wrong pointing object 1038 0 (offset 0)\n",
      "Ignoring wrong pointing object 1045 0 (offset 0)\n",
      "Ignoring wrong pointing object 1049 0 (offset 0)\n",
      "Ignoring wrong pointing object 1052 0 (offset 0)\n",
      "Ignoring wrong pointing object 1055 0 (offset 0)\n",
      "Ignoring wrong pointing object 1061 0 (offset 0)\n",
      "Ignoring wrong pointing object 1074 0 (offset 0)\n",
      "Ignoring wrong pointing object 1077 0 (offset 0)\n",
      "Ignoring wrong pointing object 1112 0 (offset 0)\n",
      "Ignoring wrong pointing object 1129 0 (offset 0)\n",
      "Ignoring wrong pointing object 1131 0 (offset 0)\n",
      "Ignoring wrong pointing object 1133 0 (offset 0)\n",
      "Ignoring wrong pointing object 1135 0 (offset 0)\n",
      "Ignoring wrong pointing object 1154 0 (offset 0)\n",
      "Ignoring wrong pointing object 1185 0 (offset 0)\n",
      "Ignoring wrong pointing object 1187 0 (offset 0)\n",
      "Ignoring wrong pointing object 1198 0 (offset 0)\n",
      "Ignoring wrong pointing object 1200 0 (offset 0)\n",
      "Ignoring wrong pointing object 1206 0 (offset 0)\n",
      "Ignoring wrong pointing object 1237 0 (offset 0)\n",
      "Ignoring wrong pointing object 1268 0 (offset 0)\n",
      "Ignoring wrong pointing object 1297 0 (offset 0)\n",
      "Ignoring wrong pointing object 1317 0 (offset 0)\n",
      "Ignoring wrong pointing object 1320 0 (offset 0)\n",
      "Ignoring wrong pointing object 1324 0 (offset 0)\n",
      "Ignoring wrong pointing object 1328 0 (offset 0)\n",
      "Ignoring wrong pointing object 1337 0 (offset 0)\n",
      "Ignoring wrong pointing object 1343 0 (offset 0)\n",
      "Ignoring wrong pointing object 1347 0 (offset 0)\n",
      "Ignoring wrong pointing object 1395 0 (offset 0)\n",
      "Ignoring wrong pointing object 1423 0 (offset 0)\n",
      "Ignoring wrong pointing object 1428 0 (offset 0)\n",
      "Ignoring wrong pointing object 1439 0 (offset 0)\n",
      "Ignoring wrong pointing object 1441 0 (offset 0)\n",
      "Ignoring wrong pointing object 2787 0 (offset 0)\n",
      "Ignoring wrong pointing object 2789 0 (offset 0)\n",
      "Ignoring wrong pointing object 2796 0 (offset 0)\n",
      "Ignoring wrong pointing object 2805 0 (offset 0)\n",
      "Ignoring wrong pointing object 2808 0 (offset 0)\n",
      "Ignoring wrong pointing object 2814 0 (offset 0)\n",
      "Ignoring wrong pointing object 2820 0 (offset 0)\n",
      "Ignoring wrong pointing object 2822 0 (offset 0)\n",
      "Ignoring wrong pointing object 2844 0 (offset 0)\n",
      "Ignoring wrong pointing object 2858 0 (offset 0)\n",
      "Ignoring wrong pointing object 2867 0 (offset 0)\n",
      "Ignoring wrong pointing object 2869 0 (offset 0)\n",
      "Ignoring wrong pointing object 2878 0 (offset 0)\n",
      "Ignoring wrong pointing object 2880 0 (offset 0)\n",
      "Ignoring wrong pointing object 2882 0 (offset 0)\n",
      "Ignoring wrong pointing object 2884 0 (offset 0)\n",
      "Ignoring wrong pointing object 2887 0 (offset 0)\n",
      "Ignoring wrong pointing object 2894 0 (offset 0)\n"
     ]
    }
   ],
   "source": [
    "pdf_loader = PyPDFLoader(file_path=\"../data/CS229_Lecture_Notes.pdf\")\n",
    "pdf_chunks = pdf_loader.load()"
   ]
  },
  {
   "cell_type": "code",
   "execution_count": 7,
   "metadata": {},
   "outputs": [],
   "source": [
    "pdf_text_splitter = RecursiveCharacterTextSplitter(\n",
    "    chunk_size = 1500,\n",
    "    chunk_overlap = 150\n",
    ")\n",
    "pdf_splits = pdf_text_splitter.split_documents(pdf_chunks)"
   ]
  },
  {
   "cell_type": "code",
   "execution_count": 8,
   "metadata": {},
   "outputs": [
    {
     "data": {
      "text/plain": [
       "231"
      ]
     },
     "execution_count": 8,
     "metadata": {},
     "output_type": "execute_result"
    }
   ],
   "source": [
    "len(pdf_splits)"
   ]
  },
  {
   "cell_type": "code",
   "execution_count": 9,
   "metadata": {},
   "outputs": [
    {
     "data": {
      "text/plain": [
       "{'page_content': 'CS229 Lecture notes\\nAndrew Ng\\nSupervised learning\\nLet’s start by talking about a few examples of supervised learning pr oblems.\\nSuppose we have a dataset giving the living areas and prices of 47 hou ses\\nfrom Portland, Oregon:\\nLiving area (feet2)\\nPrice (1000$s)\\n2104\\n 400\\n1600\\n 330\\n2400\\n 369\\n1416\\n 232\\n3000\\n 540\\n...\\n...\\nWe can plot this data:\\n500 1000 1500 2000 2500 3000 3500 4000 4500 500001002003004005006007008009001000housing prices\\nsquare feetprice (in $1000)Given data like this, how can we learn to predict the prices of other ho uses\\nin Portland, as a function of the size of their living areas?\\n1',\n",
       " 'metadata': {'source': '../data/CS229_Lecture_Notes.pdf', 'page': 0},\n",
       " 'type': 'Document'}"
      ]
     },
     "execution_count": 9,
     "metadata": {},
     "output_type": "execute_result"
    }
   ],
   "source": [
    "pdf_splits[0].dict()"
   ]
  },
  {
   "cell_type": "markdown",
   "metadata": {},
   "source": [
    "### Embeddings and database loading\n",
    "\n",
    "First, create the embeddings"
   ]
  },
  {
   "cell_type": "code",
   "execution_count": 10,
   "metadata": {},
   "outputs": [],
   "source": [
    "from langchain.vectorstores import Weaviate\n",
    "from langchain_openai import OpenAIEmbeddings"
   ]
  },
  {
   "cell_type": "code",
   "execution_count": 13,
   "metadata": {},
   "outputs": [],
   "source": [
    "embeddings = OpenAIEmbeddings(model = \"text-embedding-ada-002\", api_key=openai_key)"
   ]
  },
  {
   "cell_type": "markdown",
   "metadata": {},
   "source": [
    "Then load these into the vector store"
   ]
  },
  {
   "cell_type": "code",
   "execution_count": 110,
   "metadata": {},
   "outputs": [],
   "source": [
    "weaviate_instance = Weaviate(client=weaviate_client, index_name=\"test\", text_key=\"test\")"
   ]
  },
  {
   "cell_type": "code",
   "execution_count": 16,
   "metadata": {},
   "outputs": [],
   "source": [
    "weaviate_db = Weaviate.from_documents(pdf_splits, embeddings, client=weaviate_client)"
   ]
  },
  {
   "cell_type": "markdown",
   "metadata": {},
   "source": [
    "### Vector search"
   ]
  },
  {
   "cell_type": "code",
   "execution_count": null,
   "metadata": {},
   "outputs": [],
   "source": []
  }
 ],
 "metadata": {
  "kernelspec": {
   "display_name": "venv-llm-rag",
   "language": "python",
   "name": "python3"
  },
  "language_info": {
   "codemirror_mode": {
    "name": "ipython",
    "version": 3
   },
   "file_extension": ".py",
   "mimetype": "text/x-python",
   "name": "python",
   "nbconvert_exporter": "python",
   "pygments_lexer": "ipython3",
   "version": "3.10.5"
  }
 },
 "nbformat": 4,
 "nbformat_minor": 2
}
