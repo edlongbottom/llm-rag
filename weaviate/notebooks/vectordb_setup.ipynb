{
 "cells": [
  {
   "cell_type": "markdown",
   "metadata": {},
   "source": [
    "# Weaviate\n",
    "\n",
    "### Setup\n",
    "\n",
    "Retrieve env vars and connect to Weaviate instance running in local docker container. "
   ]
  },
  {
   "cell_type": "code",
   "execution_count": 1,
   "metadata": {},
   "outputs": [],
   "source": [
    "import weaviate, os\n",
    "\n",
    "import weaviate.classes as wvc\n",
    "from weaviate.auth import AuthApiKey\n",
    "\n",
    "from dotenv import load_dotenv, find_dotenv"
   ]
  },
  {
   "cell_type": "code",
   "execution_count": 2,
   "metadata": {},
   "outputs": [],
   "source": [
    "_ = load_dotenv(find_dotenv()) # read local .env file\n",
    "\n",
    "weaviate_url = os.getenv(\"WEAVIATE_URL\") \n",
    "weaviate_key = os.getenv(\"WEAVIATE_API_KEY\")\n",
    "openai_key = os.getenv(\"OPENAI_API_KEY\")"
   ]
  },
  {
   "cell_type": "code",
   "execution_count": 5,
   "metadata": {},
   "outputs": [
    {
     "data": {
      "text/plain": [
       "True"
      ]
     },
     "execution_count": 5,
     "metadata": {},
     "output_type": "execute_result"
    }
   ],
   "source": [
    "# Connect to local Weaviate instance running in docker\n",
    "weaviate_client = weaviate.Client(\n",
    "    url=weaviate_url,  \n",
    "    auth_client_secret=weaviate.auth.AuthApiKey(api_key=weaviate_key),  \n",
    "    additional_headers={\n",
    "        \"X-OpenAI-Api-Key\": openai_key\n",
    "    }\n",
    ")\n",
    "weaviate_client.is_ready()"
   ]
  },
  {
   "cell_type": "markdown",
   "metadata": {},
   "source": [
    "### Define a schema\n",
    "\n",
    "A schema must be defined before data is imported into the vector DB. It is recommended to manually define the schema, though Weaviate can infer the schema.\n",
    "\n",
    "`Collections` are groups of objects which share a common structure, and different collections are isolated from one another. For example, you might have a movie database with Movie and Actor collections, each with their own properties. Each collection has its own properties, vectorizer modules, index settings, replication/sharding settings.\n",
    "\n",
    "As an example, a simple text question and answer collection."
   ]
  },
  {
   "cell_type": "code",
   "execution_count": null,
   "metadata": {},
   "outputs": [],
   "source": [
    "try:\n",
    "    # we will create the class \"Question\"\n",
    "    class_obj = {\n",
    "        \"class\": \"Question\",\n",
    "        \"description\": \"Information from a Jeopardy! question\",  # description of the class\n",
    "        \"vectorizer\": \"text2vec-openai\",\n",
    "        \"moduleConfig\": {\n",
    "            \"generative-openai\": {}  # Set `generative-openai` as the generative module\n",
    "        },\n",
    "        \"properties\": [\n",
    "            {\n",
    "                \"name\": \"question\",\n",
    "                \"dataType\": [\"text\"],\n",
    "                \"description\": \"The question\",\n",
    "                \"moduleConfig\": {\n",
    "                    \"text2vec-openai\": {  # this must match the vectorizer used\n",
    "                        \"vectorizePropertyName\": True,\n",
    "                        \"tokenization\": \"lowercase\"\n",
    "                    }\n",
    "                }\n",
    "            },\n",
    "            {\n",
    "                \"name\": \"answer\",\n",
    "                \"dataType\": [\"text\"],\n",
    "                \"description\": \"The answer\",\n",
    "                \"moduleConfig\": {\n",
    "                    \"text2vec-openai\": {  # this must match the vectorizer used\n",
    "                        \"vectorizePropertyName\": False,\n",
    "                        \"tokenization\": \"whitespace\"\n",
    "                    }\n",
    "                }\n",
    "            },\n",
    "        ],\n",
    "        # Configure the vector index\n",
    "        \"vectorIndexType\": \"hnsw\",\n",
    "        \"vectorIndexConfig\": {\n",
    "            \"distance\": \"cosine\",\n",
    "            \"pq\": {\n",
    "                \"enabled\": True,\n",
    "                \"segments\": 192\n",
    "            },\n",
    "        },\n",
    "        # Configure the inverted index\n",
    "        \"indexTimestamps\": True,\n",
    "        \"indexNullState\": True,\n",
    "        \"indexPropertyLength\": True,\n",
    "            \"multiTenancyConfig\": {\"enabled\": True},  # Enable multi-tenancy\n",
    "    }\n",
    "\n",
    "    # add the schema\n",
    "    weaviate_client.schema.create_class(class_obj)\n",
    "\n",
    "finally:\n",
    "    weaviate_client.close()"
   ]
  }
 ],
 "metadata": {
  "kernelspec": {
   "display_name": "venv-llm-rag",
   "language": "python",
   "name": "python3"
  },
  "language_info": {
   "codemirror_mode": {
    "name": "ipython",
    "version": 3
   },
   "file_extension": ".py",
   "mimetype": "text/x-python",
   "name": "python",
   "nbconvert_exporter": "python",
   "pygments_lexer": "ipython3",
   "version": "3.10.5"
  }
 },
 "nbformat": 4,
 "nbformat_minor": 2
}
